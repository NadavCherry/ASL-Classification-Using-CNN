{
 "cells": [
  {
   "cell_type": "code",
   "execution_count": 2,
   "id": "initial_id",
   "metadata": {
    "collapsed": true,
    "ExecuteTime": {
     "end_time": "2024-02-10T20:01:58.584307200Z",
     "start_time": "2024-02-10T20:01:51.020198400Z"
    }
   },
   "outputs": [
    {
     "name": "stdout",
     "output_type": "stream",
     "text": [
      "WARNING:tensorflow:From C:\\Users\\nadav\\PycharmProjects\\assignment1\\pythonProject7\\.venv\\Lib\\site-packages\\keras\\src\\losses.py:2976: The name tf.losses.sparse_softmax_cross_entropy is deprecated. Please use tf.compat.v1.losses.sparse_softmax_cross_entropy instead.\n"
     ]
    }
   ],
   "source": [
    "import numpy as np\n",
    "import matplotlib.pyplot as plt\n",
    "import vutils\n",
    "%matplotlib inline\n",
    "from sklearn.metrics import confusion_matrix,accuracy_score,log_loss\n",
    "import seaborn as sns\n",
    "import warnings\n",
    "warnings.catch_warnings()\n",
    "warnings.simplefilter(\"ignore\")\n",
    "import lightning as L\n",
    "from torchvision import datasets\n",
    "import torch\n",
    "from torch import nn\n",
    "from torchvision.transforms import ToTensor,Lambda\n",
    "from torchvision import transforms\n",
    "from torchmetrics import Accuracy\n",
    "import torch.nn.functional as F\n",
    "from torch.utils.data import Dataset,DataLoader, random_split\n",
    "from torchvision.io import read_image\n",
    "import pandas as pd\n",
    "import tensorflow as tf\n",
    "from pathlib import Path\n",
    "from PIL import Image\n",
    "from torch.utils.data import DataLoader\n",
    "from torch import nn\n",
    "import neptune.new as neptune\n",
    "from neptune.new.integrations.pytorch_lightning import NeptuneLogger\n",
    "from sklearn.metrics import auc, precision_recall_curve\n",
    "import pytorch_lightning as pl\n",
    "from sklearn.model_selection import StratifiedKFold\n",
    "# import pytorch_lightning as pl\n",
    "import os\n",
    "from pytorch_lightning.callbacks.early_stopping import EarlyStopping"
   ]
  },
  {
   "cell_type": "code",
   "outputs": [
    {
     "data": {
      "text/plain": "device(type='cuda')"
     },
     "execution_count": 3,
     "metadata": {},
     "output_type": "execute_result"
    }
   ],
   "source": [
    "device = torch.device('cuda' if torch.cuda.is_available() else 'cpu')\n",
    "device"
   ],
   "metadata": {
    "collapsed": false,
    "ExecuteTime": {
     "end_time": "2024-02-10T20:01:58.603915600Z",
     "start_time": "2024-02-10T20:01:58.586506600Z"
    }
   },
   "id": "9e52bf777ddc0cf5",
   "execution_count": 3
  },
  {
   "cell_type": "code",
   "outputs": [
    {
     "data": {
      "text/plain": "True"
     },
     "execution_count": 4,
     "metadata": {},
     "output_type": "execute_result"
    }
   ],
   "source": [
    "torch.cuda.is_available()"
   ],
   "metadata": {
    "collapsed": false,
    "ExecuteTime": {
     "end_time": "2024-02-10T20:01:58.619831500Z",
     "start_time": "2024-02-10T20:01:58.603915600Z"
    }
   },
   "id": "56e588488a4012cb",
   "execution_count": 4
  },
  {
   "cell_type": "code",
   "outputs": [],
   "source": [
    "torch.cuda.empty_cache()"
   ],
   "metadata": {
    "collapsed": false,
    "ExecuteTime": {
     "end_time": "2024-02-10T20:01:58.620870400Z",
     "start_time": "2024-02-10T20:01:58.608444500Z"
    }
   },
   "id": "44b1365dfffa37d1",
   "execution_count": 5
  },
  {
   "cell_type": "code",
   "outputs": [],
   "source": [
    "test_data_path = 'archive/test'\n",
    "# train_path = 'C:\\\\Users\\\\nadav\\\\PycharmProjects\\\\assignment1\\\\pythonProject7\\\\archive\\\\asl_alphabet_subset'\n",
    "train_path = 'C:\\\\Users\\\\nadav\\\\Downloads\\\\Final_Data_Full\\\\Final_Data_Full\\\\train'\n",
    "\n",
    "label_mapping = {\n",
    "        'A': 0, 'B': 1, 'C': 2, 'D': 3, 'E': 4, 'F': 5, 'G': 6, 'H': 7, 'I': 8, 'J': 9,\n",
    "        'K': 10, 'L': 11, 'M': 12, 'N': 13, 'O': 14, 'P': 15, 'Q': 16, 'R': 17, 'S': 18,\n",
    "        'T': 19, 'U': 20, 'V': 21, 'W': 22, 'X': 23, 'Y': 24, 'Z': 25, 'del': 26,\n",
    "        'nothing': 27, 'space': 28, 'five': 29\n",
    "    } \n",
    "inverted_label_mapping = {v: k for k, v in label_mapping.items()}"
   ],
   "metadata": {
    "collapsed": false,
    "ExecuteTime": {
     "end_time": "2024-02-10T20:01:58.621967500Z",
     "start_time": "2024-02-10T20:01:58.611004Z"
    }
   },
   "id": "df8da4488ec8ec82",
   "execution_count": 6
  },
  {
   "cell_type": "code",
   "outputs": [],
   "source": [
    "batch_size = 64\n",
    "data_path = './data_folder/'\n",
    "\n",
    "class CNN_ASL(pl.LightningModule):\n",
    "    def __init__(self, train_data, val_data, data_dir=data_path, num_classes=29, learning_rate=2e-4, batch_size=batch_size):\n",
    "        super().__init__()\n",
    "        \n",
    "        self.run = neptune.init_run(\n",
    "        project=\"nadavcherry/dp1\",\n",
    "        api_token=\"eyJhcGlfYWRkcmVzcyI6Imh0dHBzOi8vYXBwLm5lcHR1bmUuYWkiLCJhcGlfdXJsIjoiaHR0cHM6Ly9hcHAubmVwdHVuZS5haSIsImFwaV9rZXkiOiIyNTVhYzkxZC1jOTc3LTQ4ZjYtOGFhZC00MzljZmVlOGFhYWEifQ==\", # your credentials\n",
    "        )\n",
    "\n",
    "        # Set our init args as class attributes\n",
    "        self.transform = transforms.Compose(\n",
    "            [\n",
    "                transforms.Resize((200, 200)),\n",
    "                # transforms.Grayscale(num_output_channels=1),\n",
    "                transforms.ToTensor(),\n",
    "                transforms.Normalize(mean=[0.485, 0.456, 0.406], std=[0.229, 0.224, 0.225])\n",
    "\n",
    "            ]\n",
    "        )\n",
    "\n",
    "        \n",
    "        self.asl_test = datasets.ImageFolder(test_data_path, transform=transform)\n",
    "        self.asl_train = train_data\n",
    "        self.asl_val = val_data\n",
    "        self.data_dir = data_dir\n",
    "        self.learning_rate = learning_rate\n",
    "        self.batch_size=batch_size\n",
    "        self.y = []\n",
    "        self.preds = []\n",
    "        # Hardcode some dataset specific attributes\n",
    "        self.num_classes = num_classes\n",
    "        \n",
    "        ## input channels 1 - monochrom (for rgb would be 3)\n",
    "        ## output channels 32 - as the number of filters that we train\n",
    "        ## kernel size 3 - arbitrary selection\n",
    "        self.conv_11 = nn.Conv2d(1,16,11, padding='same')\n",
    "        self.conv_7 = nn.Conv2d(16,32,7, padding='same')\n",
    "        self.conv1 = nn.Conv2d(32,64,3,padding='same') \n",
    "        ## input channels 1 - monochrom (for rgb would be 3)\n",
    "        ## output channels 32 - as the number of filters that we train\n",
    "        ## kernel size 3 - arbitrary selection\n",
    "        # self.conv1 = nn.Conv2d(1,32,3,padding='same')\n",
    "        self.conv_11 = nn.Conv2d(1,16,11, padding='same')\n",
    "        self.conv_7 = nn.Conv2d(16,32,7, padding='same')\n",
    "        self.conv1 = nn.Conv2d(32,64,3,padding='same') \n",
    "        self.conv2 = nn.Conv2d(64,128,3,padding='same')\n",
    "        self.conv3 = nn.Conv2d(128,64,3,padding='same')\n",
    "        self.conv4 = nn.Conv2d(64,64,3,padding='same')\n",
    "        self.linear1 = nn.Linear(25*25*64,50)\n",
    "        self.linear2 = nn.Linear(50,self.num_classes)\n",
    "        self.mp = nn.MaxPool2d(2,2)\n",
    "        self.relu=nn.ReLU()\n",
    "        self.val_accuracy = Accuracy(task=\"multiclass\", num_classes=num_classes)\n",
    "        self.test_accuracy = Accuracy(task=\"multiclass\", num_classes=num_classes)\n",
    "        self.train_accuracy = Accuracy(task=\"multiclass\", num_classes=num_classes)\n",
    "\n",
    "        self.count_batch_train = 0\n",
    "        self.count_batch_val = 0\n",
    "        self.count_batch_test = 0\n",
    "        self.train_loss1 = 0\n",
    "        self.train_accuracy1 = 0\n",
    "\n",
    "        self.val_loss1 = 0\n",
    "        self.val_accuracy1 = 0\n",
    "\n",
    "        self.test_loss1 = 0\n",
    "        self.test_accuracy1 = 0\n",
    "        \n",
    "        self.val_loss_arr = []\n",
    "        self.val_accuracy_arr = []\n",
    "        \n",
    "        self.count_good_high_confidence = 0\n",
    "        self.count_good_classification_uncertain_confidence = 0\n",
    "        self.count_bad_classification = 0\n",
    "\n",
    "    def forward(self, x):\n",
    "        x = self.relu(self.conv_11(x))\n",
    "        x = self.relu(self.conv_7(x))\n",
    "        x = self.mp(x)\n",
    "        x = self.relu(self.conv1(x))\n",
    "        x = self.relu(self.conv2(x))\n",
    "        x = self.mp(x)\n",
    "        x = self.relu(self.conv3(x))\n",
    "        x = self.relu(self.conv4(x))\n",
    "        x = self.mp(x)\n",
    "        x = x.view(-1,25*25*64) ### WHY -1\n",
    "        x = self.relu(self.linear1(x))\n",
    "        x = self.linear2(x)\n",
    "        return F.log_softmax(x,dim=1)\n",
    "\n",
    "        \n",
    "    def training_step(self, batch, batch_idx):\n",
    "        x, y = batch\n",
    "        logits = self(x)\n",
    "        loss = F.nll_loss(logits, y)\n",
    "        preds = torch.argmax(logits, dim=1)\n",
    "        acc = self.train_accuracy(preds, y)\n",
    "        acc1 = acc.item()\n",
    "        loss1 = loss.item()\n",
    "        self.train_accuracy1 += acc1\n",
    "        self.train_loss1 += loss1\n",
    "        self.count_batch_train += 1\n",
    "        self.run[\"train/accuracy_batch\"].log(acc1)\n",
    "        self.run[\"train/loss_batch\"].log(loss1)\n",
    "        return loss\n",
    "    \n",
    "    def on_train_epoch_end(self):\n",
    "        self.run[\"train/accuracy_epochs\"].log(self.train_accuracy1/self.count_batch_train)\n",
    "        self.run[\"train/loss_epochs\"].log(self.train_loss1/self.count_batch_train)\n",
    "        self.train_accuracy1 = 0\n",
    "        self.train_loss1 = 0\n",
    "        self.count_batch_train = 0\n",
    "\n",
    "    def validation_step(self, batch, batch_idx):\n",
    "        x, y = batch\n",
    "        logits = self(x)\n",
    "        loss = F.nll_loss(logits, y)\n",
    "        preds = torch.argmax(logits, dim=1)\n",
    "        acc = self.val_accuracy(preds, y)\n",
    "        acc1 = acc.item()\n",
    "        loss1 = loss.item()\n",
    "        self.val_accuracy1 += acc1\n",
    "        self.val_loss1 += loss1\n",
    "        self.count_batch_val += 1\n",
    "        self.run[\"val/accuracy_batch\"].log(acc1)\n",
    "        self.run[\"val/loss_batch\"].log(loss1)\n",
    "        # Calling self.log will surface up scalars for you in TensorBoard\n",
    "        self.log(\"val/val_loss\", loss, on_step=False, on_epoch=True, prog_bar=True)\n",
    "        self.log(\"val/val_acc\", self.val_accuracy, on_step=False, on_epoch=True, prog_bar=True)\n",
    "        return loss\n",
    "\n",
    "    def on_validation_epoch_end(self):\n",
    "        val_acc = self.val_accuracy1/self.count_batch_val\n",
    "        val_loss_temp = self.val_loss1/self.count_batch_val\n",
    "        self.run[\"val/accuracy_epochs\"].log(val_acc)\n",
    "        self.run[\"val/loss_epochs\"].log(val_loss_temp)\n",
    "        \n",
    "        self.val_loss_arr.append(val_loss_temp)\n",
    "        self.val_accuracy_arr.append(val_acc)\n",
    "        \n",
    "        self.val_accuracy1 = 0\n",
    "        self.val_loss1 = 0\n",
    "        self.count_batch_val = 0\n",
    "\n",
    "    def test_step(self, batch, batch_idx):\n",
    "        x, y = batch\n",
    "        logits = self(x)\n",
    "        loss = F.nll_loss(logits, y)\n",
    "        logits = logits.cpu()\n",
    "        y = y.cpu()\n",
    "        preds = torch.argmax(logits, dim=1)\n",
    "       # Compute softmax probabilities\n",
    "        probs = F.softmax(logits, dim=1)\n",
    "        acc = self.test_accuracy(preds, y)\n",
    "        self.test_accuracy1 += acc.item()\n",
    "        self.test_loss1 += loss.item()\n",
    "        self.count_batch_test += 1\n",
    "        self.count_good_high_confidence = 0\n",
    "        self.count_good_classification_uncertain_confidence = 0\n",
    "        transform1 = transforms.ToPILImage()\n",
    "        for i in range(len(y)):    \n",
    "            self.y.append(y[i])\n",
    "            self.preds.append(preds[i])\n",
    "            if y[i] == preds[i]:\n",
    "                if probs[i, preds[i]] > 0.95:  # High confidence good classification\n",
    "                    if self.count_good_high_confidence == 2:\n",
    "                        continue\n",
    "                    self.count_good_high_confidence += 1\n",
    "                    img_path = f\"images/example_good_high_confidence_{batch_idx}_{i}.png\"                \n",
    "                    transform1(x[i]).save(img_path)\n",
    "                    self.run[f\"Good classification High confidence/true label: {inverted_label_mapping[y[i].item()]}, prediction: {inverted_label_mapping[preds[i].item()]}, probabilities: {probs[i, preds[i]]}, Batch_id: {batch_idx}, Example: {i}\"].upload(img_path)\n",
    "                    # display(transform1(x[i]))\n",
    "                elif probs[i, preds[i]] < 0.4:  # Uncertain classification\n",
    "                    if self.count_good_classification_uncertain_confidence == 2:\n",
    "                        continue\n",
    "                    self.count_good_classification_uncertain_confidence += 1\n",
    "                    img_path = f\"images/Uncertain_confidence_{batch_idx}_{i}.png\"\n",
    "                    transform1(x[i]).save(img_path)\n",
    "                    self.run[f\"Good classification Uncertain classification/true label: {inverted_label_mapping[y[i].item()]}, prediction: {inverted_label_mapping[preds[i].item()]}, probabilities: {probs[i, preds[i]]}, Batch_id: {batch_idx}, Example: {i}\"].upload(img_path)\n",
    "            elif probs[i, preds[i]] > 0.4:\n",
    "                self.count_bad_classification += 1\n",
    "                # if self.count_bad_classification > 100:\n",
    "                #     continue\n",
    "                img_path = f\"images/Bad_classification_{batch_idx}_{i}.png\"\n",
    "                transform1(x[i]).save(img_path)\n",
    "                self.run[f\"Bad_classification/true label: {inverted_label_mapping[y[i].item()]}, prediction: {inverted_label_mapping[preds[i].item()]}, probabilities: {probs[i, preds[i]]}, Batch_id: {batch_idx}, Example: {i}\"].upload(img_path)\n",
    "        self.log(\"test_loss\", loss, on_step=False, on_epoch=True, prog_bar=True)\n",
    "        self.log(\"test_acc\", self.test_accuracy, on_step=False, on_epoch=True, prog_bar=True)\n",
    "        return loss\n",
    "    \n",
    "    def on_test_end(self):\n",
    "        cm = confusion_matrix(self.y, self.preds)\n",
    "            \n",
    "        plt.figure(figsize=(10, 8))\n",
    "        sns.heatmap(cm, cmap='Greens', annot=True, fmt='d')\n",
    "        plt.xlabel('Prediction')\n",
    "        plt.ylabel('True label')\n",
    "        plt.title('ASL Convolutional Model\\nClassification Results on Test Set')\n",
    "        \n",
    "        # Save the confusion matrix plot\n",
    "        cm_plot_path = 'confusion_matrix_plot.png'\n",
    "        plt.savefig(cm_plot_path)\n",
    "        plt.close()\n",
    "\n",
    "        \n",
    "        folder_path = \"lightning_logs\"\n",
    "        version = os.listdir(folder_path)[-1] + '/checkpoints'\n",
    "        file_path = os.listdir(folder_path+'/'+version)\n",
    "        f = str(folder_path+'/'+version+'/'+file_path[0])\n",
    "        self.run[f'Confusion_Matrix_Plot'].upload(cm_plot_path)\n",
    "        self.run[\"test_accuracy\"] = (self.test_accuracy1/self.count_batch_test)\n",
    "        self.run[\"test_loss\"] = (self.test_loss1/self.count_batch_test)\n",
    "        self.run[f\"{file_path[0]}\"].upload(f)    \n",
    "        self.run.stop()\n",
    "\n",
    "    def configure_optimizers(self):\n",
    "        optimizer = torch.optim.Adam(self.parameters(), lr=self.learning_rate)\n",
    "        return optimizer\n",
    "\n",
    "\n",
    "    def train_dataloader(self):\n",
    "        return self.asl_train\n",
    "\n",
    "    def val_dataloader(self):\n",
    "        return self.asl_val\n",
    "\n",
    "    def test_dataloader(self):\n",
    "        return DataLoader(self.asl_test, batch_size=self.batch_size)\n"
   ],
   "metadata": {
    "collapsed": false,
    "ExecuteTime": {
     "end_time": "2024-02-10T20:01:58.637007700Z",
     "start_time": "2024-02-10T20:01:58.613527800Z"
    }
   },
   "id": "636b3ee2f8eb1007",
   "execution_count": 7
  },
  {
   "cell_type": "code",
   "outputs": [
    {
     "name": "stdout",
     "output_type": "stream",
     "text": [
      "https://app.neptune.ai/nadavcherry/dp1/e/DP-266\n",
      "Remember to stop your run once you’ve finished logging your metadata (https://docs.neptune.ai/api/run#stop). It will be stopped automatically only when the notebook kernel/interactive console is terminated.\n"
     ]
    },
    {
     "name": "stderr",
     "output_type": "stream",
     "text": [
      "GPU available: True (cuda), used: True\n",
      "TPU available: False, using: 0 TPU cores\n",
      "IPU available: False, using: 0 IPUs\n",
      "HPU available: False, using: 0 HPUs\n",
      "You are using a CUDA device ('NVIDIA GeForce RTX 4080 Laptop GPU') that has Tensor Cores. To properly utilize them, you should set `torch.set_float32_matmul_precision('medium' | 'high')` which will trade-off precision for performance. For more details, read https://pytorch.org/docs/stable/generated/torch.set_float32_matmul_precision.html#torch.set_float32_matmul_precision\n",
      "LOCAL_RANK: 0 - CUDA_VISIBLE_DEVICES: [0]\n",
      "\n",
      "   | Name           | Type               | Params\n",
      "-------------------------------------------------------\n",
      "0  | conv_11        | Conv2d             | 2.0 K \n",
      "1  | conv_7         | Conv2d             | 25.1 K\n",
      "2  | conv1          | Conv2d             | 18.5 K\n",
      "3  | conv2          | Conv2d             | 73.9 K\n",
      "4  | conv3          | Conv2d             | 73.8 K\n",
      "5  | conv4          | Conv2d             | 36.9 K\n",
      "6  | linear1        | Linear             | 2.0 M \n",
      "7  | linear2        | Linear             | 1.5 K \n",
      "8  | mp             | MaxPool2d          | 0     \n",
      "9  | relu           | ReLU               | 0     \n",
      "10 | val_accuracy   | MulticlassAccuracy | 0     \n",
      "11 | test_accuracy  | MulticlassAccuracy | 0     \n",
      "12 | train_accuracy | MulticlassAccuracy | 0     \n",
      "-------------------------------------------------------\n",
      "2.2 M     Trainable params\n",
      "0         Non-trainable params\n",
      "2.2 M     Total params\n",
      "8.927     Total estimated model params size (MB)\n"
     ]
    },
    {
     "data": {
      "text/plain": "Sanity Checking: |          | 0/? [00:00<?, ?it/s]",
      "application/vnd.jupyter.widget-view+json": {
       "version_major": 2,
       "version_minor": 0,
       "model_id": "de16aa194cf8403c8d85ad959c2c862b"
      }
     },
     "metadata": {},
     "output_type": "display_data"
    },
    {
     "data": {
      "text/plain": "Training: |          | 0/? [00:00<?, ?it/s]",
      "application/vnd.jupyter.widget-view+json": {
       "version_major": 2,
       "version_minor": 0,
       "model_id": "e555b41c5b9d4ef2b4ebc3436a2f4c04"
      }
     },
     "metadata": {},
     "output_type": "display_data"
    },
    {
     "data": {
      "text/plain": "Validation: |          | 0/? [00:00<?, ?it/s]",
      "application/vnd.jupyter.widget-view+json": {
       "version_major": 2,
       "version_minor": 0,
       "model_id": "86397f3f19fa4813b814abcdd067fa85"
      }
     },
     "metadata": {},
     "output_type": "display_data"
    },
    {
     "name": "stderr",
     "output_type": "stream",
     "text": [
      "Metric val/val_loss improved. New best score: 1.191\n"
     ]
    },
    {
     "data": {
      "text/plain": "Validation: |          | 0/? [00:00<?, ?it/s]",
      "application/vnd.jupyter.widget-view+json": {
       "version_major": 2,
       "version_minor": 0,
       "model_id": "e4f674fca07d481384a790853b9bb0e0"
      }
     },
     "metadata": {},
     "output_type": "display_data"
    },
    {
     "name": "stderr",
     "output_type": "stream",
     "text": [
      "Metric val/val_loss improved by 0.553 >= min_delta = 0.001. New best score: 0.638\n"
     ]
    },
    {
     "data": {
      "text/plain": "Validation: |          | 0/? [00:00<?, ?it/s]",
      "application/vnd.jupyter.widget-view+json": {
       "version_major": 2,
       "version_minor": 0,
       "model_id": "d32f7b7be4474b4fbb0427e8d0a371c8"
      }
     },
     "metadata": {},
     "output_type": "display_data"
    },
    {
     "name": "stderr",
     "output_type": "stream",
     "text": [
      "Metric val/val_loss improved by 0.106 >= min_delta = 0.001. New best score: 0.532\n"
     ]
    },
    {
     "data": {
      "text/plain": "Validation: |          | 0/? [00:00<?, ?it/s]",
      "application/vnd.jupyter.widget-view+json": {
       "version_major": 2,
       "version_minor": 0,
       "model_id": "76c39eade2524e42b30e81731938addd"
      }
     },
     "metadata": {},
     "output_type": "display_data"
    },
    {
     "name": "stderr",
     "output_type": "stream",
     "text": [
      "Metric val/val_loss improved by 0.091 >= min_delta = 0.001. New best score: 0.442\n"
     ]
    },
    {
     "data": {
      "text/plain": "Validation: |          | 0/? [00:00<?, ?it/s]",
      "application/vnd.jupyter.widget-view+json": {
       "version_major": 2,
       "version_minor": 0,
       "model_id": "e42181b1a760436f993b88c29bbbdcf5"
      }
     },
     "metadata": {},
     "output_type": "display_data"
    },
    {
     "data": {
      "text/plain": "Validation: |          | 0/? [00:00<?, ?it/s]",
      "application/vnd.jupyter.widget-view+json": {
       "version_major": 2,
       "version_minor": 0,
       "model_id": "c354640305064738a9943a6fdd76caaf"
      }
     },
     "metadata": {},
     "output_type": "display_data"
    },
    {
     "name": "stderr",
     "output_type": "stream",
     "text": [
      "Metric val/val_loss improved by 0.039 >= min_delta = 0.001. New best score: 0.403\n"
     ]
    },
    {
     "data": {
      "text/plain": "Validation: |          | 0/? [00:00<?, ?it/s]",
      "application/vnd.jupyter.widget-view+json": {
       "version_major": 2,
       "version_minor": 0,
       "model_id": "5d047584512d46d786a78f0e5b1e1ae9"
      }
     },
     "metadata": {},
     "output_type": "display_data"
    },
    {
     "data": {
      "text/plain": "Validation: |          | 0/? [00:00<?, ?it/s]",
      "application/vnd.jupyter.widget-view+json": {
       "version_major": 2,
       "version_minor": 0,
       "model_id": "aa2b168d29d8487c988efd1be86be6c7"
      }
     },
     "metadata": {},
     "output_type": "display_data"
    },
    {
     "data": {
      "text/plain": "Validation: |          | 0/? [00:00<?, ?it/s]",
      "application/vnd.jupyter.widget-view+json": {
       "version_major": 2,
       "version_minor": 0,
       "model_id": "5cc7b9fd28a146448a41e0a2af3a4991"
      }
     },
     "metadata": {},
     "output_type": "display_data"
    },
    {
     "name": "stderr",
     "output_type": "stream",
     "text": [
      "Monitored metric val/val_loss did not improve in the last 3 records. Best score: 0.403. Signaling Trainer to stop.\n"
     ]
    }
   ],
   "source": [
    "transform = transforms.Compose(\n",
    "    [\n",
    "        transforms.Resize((200, 200)),\n",
    "        transforms.Grayscale(num_output_channels=1),\n",
    "        transforms.ToTensor(),\n",
    "        # transforms.Normalize(mean=[0.485, 0.456, 0.406], std=[0.229, 0.224, 0.225])\n",
    "    ]\n",
    ")\n",
    "train_dataset = datasets.ImageFolder(train_path, transform=transform)\n",
    "dataset_size = len(train_dataset)\n",
    "train_size = int(dataset_size * 0.8)\n",
    "val_size = dataset_size - train_size\n",
    "train_data, train_val = random_split(train_dataset, [train_size, val_size])\n",
    "train_loader  = DataLoader(train_data, batch_size=batch_size)\n",
    "val_loader = DataLoader(train_val, batch_size=batch_size)\n",
    "# \n",
    "kf_model = CNN_ASL(train_loader, val_loader, num_classes=30)\n",
    "# Define EarlyStopping callback\n",
    "early_stop_callback = EarlyStopping(\n",
    "    monitor='val/val_loss',  # Metric to monitor for improvement\n",
    "    min_delta=0.001,      # Minimum change in the monitored metric to qualify as improvement\n",
    "    patience=3,           # Number of epochs with no improvement after which training will be stopped\n",
    "    verbose=True,         # Print message when training is stopped due to early stopping\n",
    "    mode='min'            # 'min' or 'max': whether the monitored metric should be minimized or maximized\n",
    ")\n",
    "\n",
    "# Initialize Trainer with EarlyStopping callback\n",
    "trainer = pl.Trainer(\n",
    "    accelerator=\"auto\",\n",
    "    max_epochs=50,\n",
    "    callbacks=[early_stop_callback]  # Pass the EarlyStopping callback to the Trainer\n",
    ")\n",
    "trainer.fit(kf_model)\n",
    "# # \n",
    "# # \n",
    "# # # \n",
    "# # # model = CNN_ASL.load_from_checkpoint(\"lightning_logs/version_181/checkpoints/epoch=19-step=19580.ckpt\",train_data=train_data, val_data=train_val)\n",
    "# # # # model = CNN_ASL.load_from_checkpoint(\"lightning_logs/version_283/checkpoints/epoch=4-step=95.ckpt\", train_data=train_data, val_data=train_val)\n",
    "# # # # disable randomness, dropout, etc...\n",
    "# # # model.eval()"
   ],
   "metadata": {
    "collapsed": false,
    "ExecuteTime": {
     "end_time": "2024-02-10T20:26:34.424387900Z",
     "start_time": "2024-02-10T20:01:58.629519500Z"
    }
   },
   "id": "25a5708c4db4bf40",
   "execution_count": 8
  },
  {
   "cell_type": "code",
   "outputs": [
    {
     "name": "stderr",
     "output_type": "stream",
     "text": [
      "LOCAL_RANK: 0 - CUDA_VISIBLE_DEVICES: [0]\n"
     ]
    },
    {
     "data": {
      "text/plain": "Testing: |          | 0/? [00:00<?, ?it/s]",
      "application/vnd.jupyter.widget-view+json": {
       "version_major": 2,
       "version_minor": 0,
       "model_id": "30889b827c424fefbc2c2e3e264aa8e0"
      }
     },
     "metadata": {},
     "output_type": "display_data"
    },
    {
     "name": "stdout",
     "output_type": "stream",
     "text": [
      "Shutting down background jobs, please wait a moment...\n",
      "Done!\n",
      "Waiting for the remaining 923 operations to synchronize with Neptune. Do not kill this process.\n",
      "Still waiting for the remaining 707 operations (23.40% done). Please wait.\n",
      "Still waiting for the remaining 707 operations (23.40% done). Please wait.\n",
      "Still waiting for the remaining 707 operations (23.40% done). Please wait.\n",
      "All 923 operations synced, thanks for waiting!\n",
      "Explore the metadata in the Neptune app:\n",
      "https://app.neptune.ai/nadavcherry/dp1/e/DP-266\n",
      "────────────────────────────────────────────────────────────────────────────────────────────────────────────────────────\r\n",
      "       Test metric             DataLoader 0\r\n",
      "────────────────────────────────────────────────────────────────────────────────────────────────────────────────────────\r\n",
      "        test_acc            0.9239093661308289\r\n",
      "        test_loss           0.44822049140930176\r\n",
      "────────────────────────────────────────────────────────────────────────────────────────────────────────────────────────\n"
     ]
    },
    {
     "data": {
      "text/plain": "[{'test_loss': 0.44822049140930176, 'test_acc': 0.9239093661308289}]"
     },
     "execution_count": 9,
     "metadata": {},
     "output_type": "execute_result"
    }
   ],
   "source": [
    "trainer.test(kf_model)"
   ],
   "metadata": {
    "collapsed": false,
    "ExecuteTime": {
     "end_time": "2024-02-10T20:28:54.035409Z",
     "start_time": "2024-02-10T20:26:34.424387900Z"
    }
   },
   "id": "8ccd18fee8bcd8f1",
   "execution_count": 9
  },
  {
   "cell_type": "code",
   "outputs": [],
   "source": [],
   "metadata": {
    "collapsed": false
   },
   "id": "ad9566c3b5632b58"
  },
  {
   "cell_type": "code",
   "outputs": [],
   "source": [
    "transform = transforms.Compose(\n",
    "    [\n",
    "        transforms.Resize((200, 200)),\n",
    "        transforms.Grayscale(num_output_channels=1),\n",
    "        transforms.ToTensor(),\n",
    "        # transforms.Normalize(mean=[0.485, 0.456, 0.406], std=[0.229, 0.224, 0.225])\n",
    "    ]\n",
    ")"
   ],
   "metadata": {
    "collapsed": false,
    "ExecuteTime": {
     "end_time": "2024-02-10T17:02:09.415399600Z",
     "start_time": "2024-02-10T17:02:09.404333400Z"
    }
   },
   "id": "3beb9188dd93701b",
   "execution_count": 7
  },
  {
   "cell_type": "code",
   "outputs": [],
   "source": [
    "train_dataset = datasets.ImageFolder(train_path, transform=transform)"
   ],
   "metadata": {
    "collapsed": false,
    "ExecuteTime": {
     "end_time": "2024-02-10T17:02:09.556696700Z",
     "start_time": "2024-02-10T17:02:09.407008700Z"
    }
   },
   "id": "433fcca75369a839",
   "execution_count": 8
  },
  {
   "cell_type": "code",
   "outputs": [
    {
     "name": "stdout",
     "output_type": "stream",
     "text": [
      "https://app.neptune.ai/nadavcherry/dp1/e/DP-260\n",
      "Remember to stop your run once you’ve finished logging your metadata (https://docs.neptune.ai/api/run#stop). It will be stopped automatically only when the notebook kernel/interactive console is terminated.\n"
     ]
    },
    {
     "name": "stderr",
     "output_type": "stream",
     "text": [
      "GPU available: True (cuda), used: True\n",
      "TPU available: False, using: 0 TPU cores\n",
      "IPU available: False, using: 0 IPUs\n",
      "HPU available: False, using: 0 HPUs\n",
      "You are using a CUDA device ('NVIDIA GeForce RTX 4080 Laptop GPU') that has Tensor Cores. To properly utilize them, you should set `torch.set_float32_matmul_precision('medium' | 'high')` which will trade-off precision for performance. For more details, read https://pytorch.org/docs/stable/generated/torch.set_float32_matmul_precision.html#torch.set_float32_matmul_precision\n",
      "LOCAL_RANK: 0 - CUDA_VISIBLE_DEVICES: [0]\n",
      "\n",
      "   | Name           | Type               | Params\n",
      "-------------------------------------------------------\n",
      "0  | conv1          | Conv2d             | 320   \n",
      "1  | conv2          | Conv2d             | 18.5 K\n",
      "2  | conv3          | Conv2d             | 18.5 K\n",
      "3  | conv4          | Conv2d             | 18.5 K\n",
      "4  | linear1        | Linear             | 8.0 M \n",
      "5  | linear2        | Linear             | 1.5 K \n",
      "6  | mp             | MaxPool2d          | 0     \n",
      "7  | relu           | ReLU               | 0     \n",
      "8  | val_accuracy   | MulticlassAccuracy | 0     \n",
      "9  | test_accuracy  | MulticlassAccuracy | 0     \n",
      "10 | train_accuracy | MulticlassAccuracy | 0     \n",
      "-------------------------------------------------------\n",
      "8.1 M     Trainable params\n",
      "0         Non-trainable params\n",
      "8.1 M     Total params\n",
      "32.229    Total estimated model params size (MB)\n"
     ]
    },
    {
     "data": {
      "text/plain": "Sanity Checking: |          | 0/? [00:00<?, ?it/s]",
      "application/vnd.jupyter.widget-view+json": {
       "version_major": 2,
       "version_minor": 0,
       "model_id": "b24b2b814beb4f3b89df22f02d2b7640"
      }
     },
     "metadata": {},
     "output_type": "display_data"
    },
    {
     "data": {
      "text/plain": "Training: |          | 0/? [00:00<?, ?it/s]",
      "application/vnd.jupyter.widget-view+json": {
       "version_major": 2,
       "version_minor": 0,
       "model_id": "418aad80dbb046338e02d92e078e1a98"
      }
     },
     "metadata": {},
     "output_type": "display_data"
    },
    {
     "data": {
      "text/plain": "Validation: |          | 0/? [00:00<?, ?it/s]",
      "application/vnd.jupyter.widget-view+json": {
       "version_major": 2,
       "version_minor": 0,
       "model_id": "de6886017dbf453fa71bc8093902e08c"
      }
     },
     "metadata": {},
     "output_type": "display_data"
    },
    {
     "name": "stderr",
     "output_type": "stream",
     "text": [
      "Metric val/val_loss improved. New best score: 1.103\n"
     ]
    },
    {
     "data": {
      "text/plain": "Validation: |          | 0/? [00:00<?, ?it/s]",
      "application/vnd.jupyter.widget-view+json": {
       "version_major": 2,
       "version_minor": 0,
       "model_id": "ba636a2955304e12a317089bef927b99"
      }
     },
     "metadata": {},
     "output_type": "display_data"
    },
    {
     "name": "stderr",
     "output_type": "stream",
     "text": [
      "Metric val/val_loss improved by 0.504 >= min_delta = 0.001. New best score: 0.599\n"
     ]
    },
    {
     "data": {
      "text/plain": "Validation: |          | 0/? [00:00<?, ?it/s]",
      "application/vnd.jupyter.widget-view+json": {
       "version_major": 2,
       "version_minor": 0,
       "model_id": "17cf6cb948ad407a933ec732ea7a3726"
      }
     },
     "metadata": {},
     "output_type": "display_data"
    },
    {
     "name": "stderr",
     "output_type": "stream",
     "text": [
      "Metric val/val_loss improved by 0.098 >= min_delta = 0.001. New best score: 0.501\n"
     ]
    },
    {
     "data": {
      "text/plain": "Validation: |          | 0/? [00:00<?, ?it/s]",
      "application/vnd.jupyter.widget-view+json": {
       "version_major": 2,
       "version_minor": 0,
       "model_id": "2546ac630c77427dbd8de271e795ae93"
      }
     },
     "metadata": {},
     "output_type": "display_data"
    },
    {
     "name": "stderr",
     "output_type": "stream",
     "text": [
      "Metric val/val_loss improved by 0.037 >= min_delta = 0.001. New best score: 0.463\n"
     ]
    },
    {
     "data": {
      "text/plain": "Validation: |          | 0/? [00:00<?, ?it/s]",
      "application/vnd.jupyter.widget-view+json": {
       "version_major": 2,
       "version_minor": 0,
       "model_id": "84c9b559b7d94e28889d7f666fcfafbd"
      }
     },
     "metadata": {},
     "output_type": "display_data"
    },
    {
     "data": {
      "text/plain": "Validation: |          | 0/? [00:00<?, ?it/s]",
      "application/vnd.jupyter.widget-view+json": {
       "version_major": 2,
       "version_minor": 0,
       "model_id": "a0ae6e514fda42138ba1725020014bec"
      }
     },
     "metadata": {},
     "output_type": "display_data"
    },
    {
     "data": {
      "text/plain": "Validation: |          | 0/? [00:00<?, ?it/s]",
      "application/vnd.jupyter.widget-view+json": {
       "version_major": 2,
       "version_minor": 0,
       "model_id": "35d2b314883849bea6e68131ba9587b1"
      }
     },
     "metadata": {},
     "output_type": "display_data"
    },
    {
     "name": "stderr",
     "output_type": "stream",
     "text": [
      "Monitored metric val/val_loss did not improve in the last 3 records. Best score: 0.463. Signaling Trainer to stop.\n",
      "LOCAL_RANK: 0 - CUDA_VISIBLE_DEVICES: [0]\n"
     ]
    },
    {
     "data": {
      "text/plain": "Testing: |          | 0/? [00:00<?, ?it/s]",
      "application/vnd.jupyter.widget-view+json": {
       "version_major": 2,
       "version_minor": 0,
       "model_id": "4d8fa3cc88ec452d8b67bea204396573"
      }
     },
     "metadata": {},
     "output_type": "display_data"
    },
    {
     "name": "stdout",
     "output_type": "stream",
     "text": [
      "Shutting down background jobs, please wait a moment...\n",
      "Done!\n",
      "Waiting for the remaining 896 operations to synchronize with Neptune. Do not kill this process.\n",
      "Still waiting for the remaining 896 operations (0.00% done). Please wait.\n",
      "Still waiting for the remaining 896 operations (0.00% done). Please wait.\n",
      "Still waiting for the remaining 896 operations (0.00% done). Please wait.\n",
      "Still waiting for the remaining 896 operations (0.00% done). Please wait.\n",
      "All 896 operations synced, thanks for waiting!\n",
      "Explore the metadata in the Neptune app:\n",
      "https://app.neptune.ai/nadavcherry/dp1/e/DP-260\n",
      "────────────────────────────────────────────────────────────────────────────────────────────────────────────────────────\r\n",
      "       Test metric             DataLoader 0\r\n",
      "────────────────────────────────────────────────────────────────────────────────────────────────────────────────────────\r\n",
      "        test_acc            0.9138766527175903\r\n",
      "        test_loss           0.44320744276046753\r\n",
      "────────────────────────────────────────────────────────────────────────────────────────────────────────────────────────\n",
      "https://app.neptune.ai/nadavcherry/dp1/e/DP-261\n",
      "Remember to stop your run once you’ve finished logging your metadata (https://docs.neptune.ai/api/run#stop). It will be stopped automatically only when the notebook kernel/interactive console is terminated.\n"
     ]
    },
    {
     "name": "stderr",
     "output_type": "stream",
     "text": [
      "GPU available: True (cuda), used: True\n",
      "TPU available: False, using: 0 TPU cores\n",
      "IPU available: False, using: 0 IPUs\n",
      "HPU available: False, using: 0 HPUs\n",
      "LOCAL_RANK: 0 - CUDA_VISIBLE_DEVICES: [0]\n",
      "\n",
      "   | Name           | Type               | Params\n",
      "-------------------------------------------------------\n",
      "0  | conv1          | Conv2d             | 320   \n",
      "1  | conv2          | Conv2d             | 18.5 K\n",
      "2  | conv3          | Conv2d             | 18.5 K\n",
      "3  | conv4          | Conv2d             | 18.5 K\n",
      "4  | linear1        | Linear             | 8.0 M \n",
      "5  | linear2        | Linear             | 1.5 K \n",
      "6  | mp             | MaxPool2d          | 0     \n",
      "7  | relu           | ReLU               | 0     \n",
      "8  | val_accuracy   | MulticlassAccuracy | 0     \n",
      "9  | test_accuracy  | MulticlassAccuracy | 0     \n",
      "10 | train_accuracy | MulticlassAccuracy | 0     \n",
      "-------------------------------------------------------\n",
      "8.1 M     Trainable params\n",
      "0         Non-trainable params\n",
      "8.1 M     Total params\n",
      "32.229    Total estimated model params size (MB)\n"
     ]
    },
    {
     "data": {
      "text/plain": "Sanity Checking: |          | 0/? [00:00<?, ?it/s]",
      "application/vnd.jupyter.widget-view+json": {
       "version_major": 2,
       "version_minor": 0,
       "model_id": "afedef5f6eff40d69962e933c0e4a251"
      }
     },
     "metadata": {},
     "output_type": "display_data"
    },
    {
     "data": {
      "text/plain": "Training: |          | 0/? [00:00<?, ?it/s]",
      "application/vnd.jupyter.widget-view+json": {
       "version_major": 2,
       "version_minor": 0,
       "model_id": "b8bf0da1ef574cc88e13b4c927dd7659"
      }
     },
     "metadata": {},
     "output_type": "display_data"
    },
    {
     "data": {
      "text/plain": "Validation: |          | 0/? [00:00<?, ?it/s]",
      "application/vnd.jupyter.widget-view+json": {
       "version_major": 2,
       "version_minor": 0,
       "model_id": "b87bec50049f4bbf8ff732ef7a76a8c8"
      }
     },
     "metadata": {},
     "output_type": "display_data"
    },
    {
     "name": "stderr",
     "output_type": "stream",
     "text": [
      "Metric val/val_loss improved. New best score: 1.588\n"
     ]
    },
    {
     "data": {
      "text/plain": "Validation: |          | 0/? [00:00<?, ?it/s]",
      "application/vnd.jupyter.widget-view+json": {
       "version_major": 2,
       "version_minor": 0,
       "model_id": "ca6613e0aadb419b9db6f4fff7ed00b0"
      }
     },
     "metadata": {},
     "output_type": "display_data"
    },
    {
     "name": "stderr",
     "output_type": "stream",
     "text": [
      "Metric val/val_loss improved by 0.550 >= min_delta = 0.001. New best score: 1.038\n"
     ]
    },
    {
     "data": {
      "text/plain": "Validation: |          | 0/? [00:00<?, ?it/s]",
      "application/vnd.jupyter.widget-view+json": {
       "version_major": 2,
       "version_minor": 0,
       "model_id": "1234a56872244e2eb5d23b2407239dfb"
      }
     },
     "metadata": {},
     "output_type": "display_data"
    },
    {
     "name": "stderr",
     "output_type": "stream",
     "text": [
      "Metric val/val_loss improved by 0.191 >= min_delta = 0.001. New best score: 0.847\n"
     ]
    },
    {
     "data": {
      "text/plain": "Validation: |          | 0/? [00:00<?, ?it/s]",
      "application/vnd.jupyter.widget-view+json": {
       "version_major": 2,
       "version_minor": 0,
       "model_id": "06512f2205b1423c8934de072dcba059"
      }
     },
     "metadata": {},
     "output_type": "display_data"
    },
    {
     "name": "stderr",
     "output_type": "stream",
     "text": [
      "Metric val/val_loss improved by 0.102 >= min_delta = 0.001. New best score: 0.745\n"
     ]
    },
    {
     "data": {
      "text/plain": "Validation: |          | 0/? [00:00<?, ?it/s]",
      "application/vnd.jupyter.widget-view+json": {
       "version_major": 2,
       "version_minor": 0,
       "model_id": "0228b7d8989c4c06ae1edc3df952e1b5"
      }
     },
     "metadata": {},
     "output_type": "display_data"
    },
    {
     "name": "stderr",
     "output_type": "stream",
     "text": [
      "Metric val/val_loss improved by 0.077 >= min_delta = 0.001. New best score: 0.667\n"
     ]
    },
    {
     "data": {
      "text/plain": "Validation: |          | 0/? [00:00<?, ?it/s]",
      "application/vnd.jupyter.widget-view+json": {
       "version_major": 2,
       "version_minor": 0,
       "model_id": "8b6276fb19e44434b495428410111e85"
      }
     },
     "metadata": {},
     "output_type": "display_data"
    },
    {
     "name": "stderr",
     "output_type": "stream",
     "text": [
      "Metric val/val_loss improved by 0.059 >= min_delta = 0.001. New best score: 0.609\n"
     ]
    },
    {
     "data": {
      "text/plain": "Validation: |          | 0/? [00:00<?, ?it/s]",
      "application/vnd.jupyter.widget-view+json": {
       "version_major": 2,
       "version_minor": 0,
       "model_id": "aa74dd40ca2242b9a905770caa0a1c2a"
      }
     },
     "metadata": {},
     "output_type": "display_data"
    },
    {
     "data": {
      "text/plain": "Validation: |          | 0/? [00:00<?, ?it/s]",
      "application/vnd.jupyter.widget-view+json": {
       "version_major": 2,
       "version_minor": 0,
       "model_id": "805ff308f13e4ca1a7cc97846e6ce6e2"
      }
     },
     "metadata": {},
     "output_type": "display_data"
    },
    {
     "name": "stderr",
     "output_type": "stream",
     "text": [
      "Metric val/val_loss improved by 0.015 >= min_delta = 0.001. New best score: 0.594\n"
     ]
    },
    {
     "data": {
      "text/plain": "Validation: |          | 0/? [00:00<?, ?it/s]",
      "application/vnd.jupyter.widget-view+json": {
       "version_major": 2,
       "version_minor": 0,
       "model_id": "834a12cef8cd4676a6b4bed60e545579"
      }
     },
     "metadata": {},
     "output_type": "display_data"
    },
    {
     "name": "stderr",
     "output_type": "stream",
     "text": [
      "Metric val/val_loss improved by 0.005 >= min_delta = 0.001. New best score: 0.589\n"
     ]
    },
    {
     "data": {
      "text/plain": "Validation: |          | 0/? [00:00<?, ?it/s]",
      "application/vnd.jupyter.widget-view+json": {
       "version_major": 2,
       "version_minor": 0,
       "model_id": "701013fc037c47eebeb1c30b07343aa6"
      }
     },
     "metadata": {},
     "output_type": "display_data"
    },
    {
     "data": {
      "text/plain": "Validation: |          | 0/? [00:00<?, ?it/s]",
      "application/vnd.jupyter.widget-view+json": {
       "version_major": 2,
       "version_minor": 0,
       "model_id": "b0290bbd22614842ab65c0cd65319df9"
      }
     },
     "metadata": {},
     "output_type": "display_data"
    },
    {
     "data": {
      "text/plain": "Validation: |          | 0/? [00:00<?, ?it/s]",
      "application/vnd.jupyter.widget-view+json": {
       "version_major": 2,
       "version_minor": 0,
       "model_id": "59be506d55c74c43987b7a66c9e38328"
      }
     },
     "metadata": {},
     "output_type": "display_data"
    },
    {
     "name": "stderr",
     "output_type": "stream",
     "text": [
      "Monitored metric val/val_loss did not improve in the last 3 records. Best score: 0.589. Signaling Trainer to stop.\n",
      "LOCAL_RANK: 0 - CUDA_VISIBLE_DEVICES: [0]\n"
     ]
    },
    {
     "data": {
      "text/plain": "Testing: |          | 0/? [00:00<?, ?it/s]",
      "application/vnd.jupyter.widget-view+json": {
       "version_major": 2,
       "version_minor": 0,
       "model_id": "d796b962bdd9460f8cc4bf4cbd99a8c4"
      }
     },
     "metadata": {},
     "output_type": "display_data"
    },
    {
     "name": "stdout",
     "output_type": "stream",
     "text": [
      "Shutting down background jobs, please wait a moment...\n",
      "Done!\n",
      "Waiting for the remaining 1232 operations to synchronize with Neptune. Do not kill this process.\n",
      "Still waiting for the remaining 1232 operations (0.00% done). Please wait.\n",
      "Still waiting for the remaining 900 operations (26.95% done). Please wait.\n",
      "Still waiting for the remaining 900 operations (26.95% done). Please wait.\n",
      "Still waiting for the remaining 900 operations (26.95% done). Please wait.\n",
      "Still waiting for the remaining 900 operations (26.95% done). Please wait.\n",
      "All 1232 operations synced, thanks for waiting!\n",
      "Explore the metadata in the Neptune app:\n",
      "https://app.neptune.ai/nadavcherry/dp1/e/DP-261\n",
      "────────────────────────────────────────────────────────────────────────────────────────────────────────────────────────\r\n",
      "       Test metric             DataLoader 0\r\n",
      "────────────────────────────────────────────────────────────────────────────────────────────────────────────────────────\r\n",
      "        test_acc            0.8630368709564209\r\n",
      "        test_loss           0.6324984431266785\r\n",
      "────────────────────────────────────────────────────────────────────────────────────────────────────────────────────────\n",
      "https://app.neptune.ai/nadavcherry/dp1/e/DP-262\n",
      "Remember to stop your run once you’ve finished logging your metadata (https://docs.neptune.ai/api/run#stop). It will be stopped automatically only when the notebook kernel/interactive console is terminated.\n"
     ]
    },
    {
     "name": "stderr",
     "output_type": "stream",
     "text": [
      "GPU available: True (cuda), used: True\n",
      "TPU available: False, using: 0 TPU cores\n",
      "IPU available: False, using: 0 IPUs\n",
      "HPU available: False, using: 0 HPUs\n",
      "LOCAL_RANK: 0 - CUDA_VISIBLE_DEVICES: [0]\n",
      "\n",
      "   | Name           | Type               | Params\n",
      "-------------------------------------------------------\n",
      "0  | conv1          | Conv2d             | 320   \n",
      "1  | conv2          | Conv2d             | 18.5 K\n",
      "2  | conv3          | Conv2d             | 18.5 K\n",
      "3  | conv4          | Conv2d             | 18.5 K\n",
      "4  | linear1        | Linear             | 8.0 M \n",
      "5  | linear2        | Linear             | 1.5 K \n",
      "6  | mp             | MaxPool2d          | 0     \n",
      "7  | relu           | ReLU               | 0     \n",
      "8  | val_accuracy   | MulticlassAccuracy | 0     \n",
      "9  | test_accuracy  | MulticlassAccuracy | 0     \n",
      "10 | train_accuracy | MulticlassAccuracy | 0     \n",
      "-------------------------------------------------------\n",
      "8.1 M     Trainable params\n",
      "0         Non-trainable params\n",
      "8.1 M     Total params\n",
      "32.229    Total estimated model params size (MB)\n"
     ]
    },
    {
     "data": {
      "text/plain": "Sanity Checking: |          | 0/? [00:00<?, ?it/s]",
      "application/vnd.jupyter.widget-view+json": {
       "version_major": 2,
       "version_minor": 0,
       "model_id": "1b17d05e8d8b4a878d7099ddfccf4744"
      }
     },
     "metadata": {},
     "output_type": "display_data"
    },
    {
     "data": {
      "text/plain": "Training: |          | 0/? [00:00<?, ?it/s]",
      "application/vnd.jupyter.widget-view+json": {
       "version_major": 2,
       "version_minor": 0,
       "model_id": "7e78eab77923418386547052d7b3a331"
      }
     },
     "metadata": {},
     "output_type": "display_data"
    },
    {
     "data": {
      "text/plain": "Validation: |          | 0/? [00:00<?, ?it/s]",
      "application/vnd.jupyter.widget-view+json": {
       "version_major": 2,
       "version_minor": 0,
       "model_id": "4a99186febf543a2bb3516cc5a488ddb"
      }
     },
     "metadata": {},
     "output_type": "display_data"
    },
    {
     "name": "stderr",
     "output_type": "stream",
     "text": [
      "Metric val/val_loss improved. New best score: 1.580\n"
     ]
    },
    {
     "data": {
      "text/plain": "Validation: |          | 0/? [00:00<?, ?it/s]",
      "application/vnd.jupyter.widget-view+json": {
       "version_major": 2,
       "version_minor": 0,
       "model_id": "d995a6030b104cac8e99df44486bf62d"
      }
     },
     "metadata": {},
     "output_type": "display_data"
    },
    {
     "name": "stderr",
     "output_type": "stream",
     "text": [
      "Metric val/val_loss improved by 0.540 >= min_delta = 0.001. New best score: 1.040\n"
     ]
    },
    {
     "data": {
      "text/plain": "Validation: |          | 0/? [00:00<?, ?it/s]",
      "application/vnd.jupyter.widget-view+json": {
       "version_major": 2,
       "version_minor": 0,
       "model_id": "e05219927c0c4776bdb7ea70869b3998"
      }
     },
     "metadata": {},
     "output_type": "display_data"
    },
    {
     "name": "stderr",
     "output_type": "stream",
     "text": [
      "Metric val/val_loss improved by 0.209 >= min_delta = 0.001. New best score: 0.831\n"
     ]
    },
    {
     "data": {
      "text/plain": "Validation: |          | 0/? [00:00<?, ?it/s]",
      "application/vnd.jupyter.widget-view+json": {
       "version_major": 2,
       "version_minor": 0,
       "model_id": "f61494f8ac304c0b82b2527d14a2e3dc"
      }
     },
     "metadata": {},
     "output_type": "display_data"
    },
    {
     "name": "stderr",
     "output_type": "stream",
     "text": [
      "Metric val/val_loss improved by 0.139 >= min_delta = 0.001. New best score: 0.692\n"
     ]
    },
    {
     "data": {
      "text/plain": "Validation: |          | 0/? [00:00<?, ?it/s]",
      "application/vnd.jupyter.widget-view+json": {
       "version_major": 2,
       "version_minor": 0,
       "model_id": "40023b67e45e44848b51943c07703f7c"
      }
     },
     "metadata": {},
     "output_type": "display_data"
    },
    {
     "name": "stderr",
     "output_type": "stream",
     "text": [
      "Metric val/val_loss improved by 0.045 >= min_delta = 0.001. New best score: 0.647\n"
     ]
    },
    {
     "data": {
      "text/plain": "Validation: |          | 0/? [00:00<?, ?it/s]",
      "application/vnd.jupyter.widget-view+json": {
       "version_major": 2,
       "version_minor": 0,
       "model_id": "6515dde8d6284671be3861c74d3223bf"
      }
     },
     "metadata": {},
     "output_type": "display_data"
    },
    {
     "name": "stderr",
     "output_type": "stream",
     "text": [
      "Metric val/val_loss improved by 0.078 >= min_delta = 0.001. New best score: 0.569\n"
     ]
    },
    {
     "data": {
      "text/plain": "Validation: |          | 0/? [00:00<?, ?it/s]",
      "application/vnd.jupyter.widget-view+json": {
       "version_major": 2,
       "version_minor": 0,
       "model_id": "d896e9657ff6473393793736d2e4d3f4"
      }
     },
     "metadata": {},
     "output_type": "display_data"
    },
    {
     "name": "stderr",
     "output_type": "stream",
     "text": [
      "Metric val/val_loss improved by 0.009 >= min_delta = 0.001. New best score: 0.559\n"
     ]
    },
    {
     "data": {
      "text/plain": "Validation: |          | 0/? [00:00<?, ?it/s]",
      "application/vnd.jupyter.widget-view+json": {
       "version_major": 2,
       "version_minor": 0,
       "model_id": "ce7cab03e70141a187964c81fcdf9c46"
      }
     },
     "metadata": {},
     "output_type": "display_data"
    },
    {
     "data": {
      "text/plain": "Validation: |          | 0/? [00:00<?, ?it/s]",
      "application/vnd.jupyter.widget-view+json": {
       "version_major": 2,
       "version_minor": 0,
       "model_id": "baa6202cd5884325b93f759d1ab836d4"
      }
     },
     "metadata": {},
     "output_type": "display_data"
    },
    {
     "name": "stderr",
     "output_type": "stream",
     "text": [
      "Metric val/val_loss improved by 0.043 >= min_delta = 0.001. New best score: 0.516\n"
     ]
    },
    {
     "data": {
      "text/plain": "Validation: |          | 0/? [00:00<?, ?it/s]",
      "application/vnd.jupyter.widget-view+json": {
       "version_major": 2,
       "version_minor": 0,
       "model_id": "bb5cc398de124fca929a6038e71da093"
      }
     },
     "metadata": {},
     "output_type": "display_data"
    },
    {
     "data": {
      "text/plain": "Validation: |          | 0/? [00:00<?, ?it/s]",
      "application/vnd.jupyter.widget-view+json": {
       "version_major": 2,
       "version_minor": 0,
       "model_id": "83440221a73a47b1996f76a1f6bce332"
      }
     },
     "metadata": {},
     "output_type": "display_data"
    },
    {
     "data": {
      "text/plain": "Validation: |          | 0/? [00:00<?, ?it/s]",
      "application/vnd.jupyter.widget-view+json": {
       "version_major": 2,
       "version_minor": 0,
       "model_id": "d1a0d3a947884068945f725865c9ae5b"
      }
     },
     "metadata": {},
     "output_type": "display_data"
    },
    {
     "name": "stderr",
     "output_type": "stream",
     "text": [
      "Monitored metric val/val_loss did not improve in the last 3 records. Best score: 0.516. Signaling Trainer to stop.\n",
      "LOCAL_RANK: 0 - CUDA_VISIBLE_DEVICES: [0]\n"
     ]
    },
    {
     "data": {
      "text/plain": "Testing: |          | 0/? [00:00<?, ?it/s]",
      "application/vnd.jupyter.widget-view+json": {
       "version_major": 2,
       "version_minor": 0,
       "model_id": "fc78e19050544158ad02d840b9a785c3"
      }
     },
     "metadata": {},
     "output_type": "display_data"
    },
    {
     "name": "stdout",
     "output_type": "stream",
     "text": [
      "Shutting down background jobs, please wait a moment...\n",
      "Done!\n",
      "Waiting for the remaining 1162 operations to synchronize with Neptune. Do not kill this process.\n",
      "Still waiting for the remaining 920 operations (20.83% done). Please wait.\n",
      "Still waiting for the remaining 920 operations (20.83% done). Please wait.\n",
      "Still waiting for the remaining 920 operations (20.83% done). Please wait.\n",
      "Still waiting for the remaining 920 operations (20.83% done). Please wait.\n",
      "Still waiting for the remaining 920 operations (20.83% done). Please wait.\n",
      "All 1162 operations synced, thanks for waiting!\n",
      "Explore the metadata in the Neptune app:\n",
      "https://app.neptune.ai/nadavcherry/dp1/e/DP-262\n",
      "────────────────────────────────────────────────────────────────────────────────────────────────────────────────────────\r\n",
      "       Test metric             DataLoader 0\r\n",
      "────────────────────────────────────────────────────────────────────────────────────────────────────────────────────────\r\n",
      "        test_acc            0.8907676935195923\r\n",
      "        test_loss           0.5982778668403625\r\n",
      "────────────────────────────────────────────────────────────────────────────────────────────────────────────────────────\n",
      "https://app.neptune.ai/nadavcherry/dp1/e/DP-263\n",
      "Remember to stop your run once you’ve finished logging your metadata (https://docs.neptune.ai/api/run#stop). It will be stopped automatically only when the notebook kernel/interactive console is terminated.\n"
     ]
    },
    {
     "name": "stderr",
     "output_type": "stream",
     "text": [
      "GPU available: True (cuda), used: True\n",
      "TPU available: False, using: 0 TPU cores\n",
      "IPU available: False, using: 0 IPUs\n",
      "HPU available: False, using: 0 HPUs\n",
      "LOCAL_RANK: 0 - CUDA_VISIBLE_DEVICES: [0]\n",
      "\n",
      "   | Name           | Type               | Params\n",
      "-------------------------------------------------------\n",
      "0  | conv1          | Conv2d             | 320   \n",
      "1  | conv2          | Conv2d             | 18.5 K\n",
      "2  | conv3          | Conv2d             | 18.5 K\n",
      "3  | conv4          | Conv2d             | 18.5 K\n",
      "4  | linear1        | Linear             | 8.0 M \n",
      "5  | linear2        | Linear             | 1.5 K \n",
      "6  | mp             | MaxPool2d          | 0     \n",
      "7  | relu           | ReLU               | 0     \n",
      "8  | val_accuracy   | MulticlassAccuracy | 0     \n",
      "9  | test_accuracy  | MulticlassAccuracy | 0     \n",
      "10 | train_accuracy | MulticlassAccuracy | 0     \n",
      "-------------------------------------------------------\n",
      "8.1 M     Trainable params\n",
      "0         Non-trainable params\n",
      "8.1 M     Total params\n",
      "32.229    Total estimated model params size (MB)\n"
     ]
    },
    {
     "data": {
      "text/plain": "Sanity Checking: |          | 0/? [00:00<?, ?it/s]",
      "application/vnd.jupyter.widget-view+json": {
       "version_major": 2,
       "version_minor": 0,
       "model_id": "6208d824910f43a7b062ace59f8071c5"
      }
     },
     "metadata": {},
     "output_type": "display_data"
    },
    {
     "data": {
      "text/plain": "Training: |          | 0/? [00:00<?, ?it/s]",
      "application/vnd.jupyter.widget-view+json": {
       "version_major": 2,
       "version_minor": 0,
       "model_id": "8af10a985e21480fbecb241a952f4826"
      }
     },
     "metadata": {},
     "output_type": "display_data"
    },
    {
     "data": {
      "text/plain": "Validation: |          | 0/? [00:00<?, ?it/s]",
      "application/vnd.jupyter.widget-view+json": {
       "version_major": 2,
       "version_minor": 0,
       "model_id": "c3035f5c517f4d04922d7921a890643b"
      }
     },
     "metadata": {},
     "output_type": "display_data"
    },
    {
     "name": "stderr",
     "output_type": "stream",
     "text": [
      "Metric val/val_loss improved. New best score: 1.896\n"
     ]
    },
    {
     "data": {
      "text/plain": "Validation: |          | 0/? [00:00<?, ?it/s]",
      "application/vnd.jupyter.widget-view+json": {
       "version_major": 2,
       "version_minor": 0,
       "model_id": "ebcf1e6233fd4b79913efa7cc82a1aa8"
      }
     },
     "metadata": {},
     "output_type": "display_data"
    },
    {
     "name": "stderr",
     "output_type": "stream",
     "text": [
      "Metric val/val_loss improved by 0.646 >= min_delta = 0.001. New best score: 1.251\n"
     ]
    },
    {
     "data": {
      "text/plain": "Validation: |          | 0/? [00:00<?, ?it/s]",
      "application/vnd.jupyter.widget-view+json": {
       "version_major": 2,
       "version_minor": 0,
       "model_id": "6990a229002844cf9a6f6899864bf8ba"
      }
     },
     "metadata": {},
     "output_type": "display_data"
    },
    {
     "name": "stderr",
     "output_type": "stream",
     "text": [
      "Metric val/val_loss improved by 0.266 >= min_delta = 0.001. New best score: 0.985\n"
     ]
    },
    {
     "data": {
      "text/plain": "Validation: |          | 0/? [00:00<?, ?it/s]",
      "application/vnd.jupyter.widget-view+json": {
       "version_major": 2,
       "version_minor": 0,
       "model_id": "8142daf2d3df46ca890f2ba249264584"
      }
     },
     "metadata": {},
     "output_type": "display_data"
    },
    {
     "name": "stderr",
     "output_type": "stream",
     "text": [
      "Metric val/val_loss improved by 0.046 >= min_delta = 0.001. New best score: 0.940\n"
     ]
    },
    {
     "data": {
      "text/plain": "Validation: |          | 0/? [00:00<?, ?it/s]",
      "application/vnd.jupyter.widget-view+json": {
       "version_major": 2,
       "version_minor": 0,
       "model_id": "3c51ce80310f4e8db45fea364ec23d6a"
      }
     },
     "metadata": {},
     "output_type": "display_data"
    },
    {
     "name": "stderr",
     "output_type": "stream",
     "text": [
      "Metric val/val_loss improved by 0.160 >= min_delta = 0.001. New best score: 0.779\n"
     ]
    },
    {
     "data": {
      "text/plain": "Validation: |          | 0/? [00:00<?, ?it/s]",
      "application/vnd.jupyter.widget-view+json": {
       "version_major": 2,
       "version_minor": 0,
       "model_id": "bf37386989bf4a2090bc8a8b4d5d2fd9"
      }
     },
     "metadata": {},
     "output_type": "display_data"
    },
    {
     "name": "stderr",
     "output_type": "stream",
     "text": [
      "Metric val/val_loss improved by 0.025 >= min_delta = 0.001. New best score: 0.754\n"
     ]
    },
    {
     "data": {
      "text/plain": "Validation: |          | 0/? [00:00<?, ?it/s]",
      "application/vnd.jupyter.widget-view+json": {
       "version_major": 2,
       "version_minor": 0,
       "model_id": "769e01af3b784107a730649f3062684b"
      }
     },
     "metadata": {},
     "output_type": "display_data"
    },
    {
     "name": "stderr",
     "output_type": "stream",
     "text": [
      "Metric val/val_loss improved by 0.071 >= min_delta = 0.001. New best score: 0.683\n"
     ]
    },
    {
     "data": {
      "text/plain": "Validation: |          | 0/? [00:00<?, ?it/s]",
      "application/vnd.jupyter.widget-view+json": {
       "version_major": 2,
       "version_minor": 0,
       "model_id": "968e35f25fc44c78a11de7dcbfc9407a"
      }
     },
     "metadata": {},
     "output_type": "display_data"
    },
    {
     "name": "stderr",
     "output_type": "stream",
     "text": [
      "Metric val/val_loss improved by 0.010 >= min_delta = 0.001. New best score: 0.673\n"
     ]
    },
    {
     "data": {
      "text/plain": "Validation: |          | 0/? [00:00<?, ?it/s]",
      "application/vnd.jupyter.widget-view+json": {
       "version_major": 2,
       "version_minor": 0,
       "model_id": "22e9429bd14e4f5987377c1292624618"
      }
     },
     "metadata": {},
     "output_type": "display_data"
    },
    {
     "data": {
      "text/plain": "Validation: |          | 0/? [00:00<?, ?it/s]",
      "application/vnd.jupyter.widget-view+json": {
       "version_major": 2,
       "version_minor": 0,
       "model_id": "69c72b3dc50741c682a92c8d1269205a"
      }
     },
     "metadata": {},
     "output_type": "display_data"
    },
    {
     "name": "stderr",
     "output_type": "stream",
     "text": [
      "Metric val/val_loss improved by 0.007 >= min_delta = 0.001. New best score: 0.666\n"
     ]
    },
    {
     "data": {
      "text/plain": "Validation: |          | 0/? [00:00<?, ?it/s]",
      "application/vnd.jupyter.widget-view+json": {
       "version_major": 2,
       "version_minor": 0,
       "model_id": "3ad42a7d87fc436f999e4130315b21fa"
      }
     },
     "metadata": {},
     "output_type": "display_data"
    },
    {
     "name": "stderr",
     "output_type": "stream",
     "text": [
      "Metric val/val_loss improved by 0.042 >= min_delta = 0.001. New best score: 0.623\n"
     ]
    },
    {
     "data": {
      "text/plain": "Validation: |          | 0/? [00:00<?, ?it/s]",
      "application/vnd.jupyter.widget-view+json": {
       "version_major": 2,
       "version_minor": 0,
       "model_id": "74554e26d1a046029964419113b22219"
      }
     },
     "metadata": {},
     "output_type": "display_data"
    },
    {
     "name": "stderr",
     "output_type": "stream",
     "text": [
      "Metric val/val_loss improved by 0.002 >= min_delta = 0.001. New best score: 0.622\n"
     ]
    },
    {
     "data": {
      "text/plain": "Validation: |          | 0/? [00:00<?, ?it/s]",
      "application/vnd.jupyter.widget-view+json": {
       "version_major": 2,
       "version_minor": 0,
       "model_id": "591436704cab447dbb63dfcfe07437d8"
      }
     },
     "metadata": {},
     "output_type": "display_data"
    },
    {
     "data": {
      "text/plain": "Validation: |          | 0/? [00:00<?, ?it/s]",
      "application/vnd.jupyter.widget-view+json": {
       "version_major": 2,
       "version_minor": 0,
       "model_id": "629b3556905147c28e0881e56749cdb2"
      }
     },
     "metadata": {},
     "output_type": "display_data"
    },
    {
     "data": {
      "text/plain": "Validation: |          | 0/? [00:00<?, ?it/s]",
      "application/vnd.jupyter.widget-view+json": {
       "version_major": 2,
       "version_minor": 0,
       "model_id": "76587182bb7244d68adb7ac0a2b17d40"
      }
     },
     "metadata": {},
     "output_type": "display_data"
    },
    {
     "name": "stderr",
     "output_type": "stream",
     "text": [
      "Monitored metric val/val_loss did not improve in the last 3 records. Best score: 0.622. Signaling Trainer to stop.\n",
      "LOCAL_RANK: 0 - CUDA_VISIBLE_DEVICES: [0]\n"
     ]
    },
    {
     "data": {
      "text/plain": "Testing: |          | 0/? [00:00<?, ?it/s]",
      "application/vnd.jupyter.widget-view+json": {
       "version_major": 2,
       "version_minor": 0,
       "model_id": "897a7ebe26bb4cffb5b7a3ea9cd8cccd"
      }
     },
     "metadata": {},
     "output_type": "display_data"
    },
    {
     "name": "stdout",
     "output_type": "stream",
     "text": [
      "Shutting down background jobs, please wait a moment...\n",
      "Done!\n",
      "Waiting for the remaining 1120 operations to synchronize with Neptune. Do not kill this process.\n",
      "Still waiting for the remaining 880 operations (21.43% done). Please wait.\n",
      "Still waiting for the remaining 880 operations (21.43% done). Please wait.\n",
      "Still waiting for the remaining 880 operations (21.43% done). Please wait.\n",
      "Still waiting for the remaining 880 operations (21.43% done). Please wait.\n",
      "All 1120 operations synced, thanks for waiting!\n",
      "Explore the metadata in the Neptune app:\n",
      "https://app.neptune.ai/nadavcherry/dp1/e/DP-263\n",
      "────────────────────────────────────────────────────────────────────────────────────────────────────────────────────────\r\n",
      "       Test metric             DataLoader 0\r\n",
      "────────────────────────────────────────────────────────────────────────────────────────────────────────────────────────\r\n",
      "        test_acc             0.862022340297699\r\n",
      "        test_loss           0.5905736088752747\r\n",
      "────────────────────────────────────────────────────────────────────────────────────────────────────────────────────────\n",
      "https://app.neptune.ai/nadavcherry/dp1/e/DP-264\n",
      "Remember to stop your run once you’ve finished logging your metadata (https://docs.neptune.ai/api/run#stop). It will be stopped automatically only when the notebook kernel/interactive console is terminated.\n"
     ]
    },
    {
     "name": "stderr",
     "output_type": "stream",
     "text": [
      "GPU available: True (cuda), used: True\n",
      "TPU available: False, using: 0 TPU cores\n",
      "IPU available: False, using: 0 IPUs\n",
      "HPU available: False, using: 0 HPUs\n",
      "LOCAL_RANK: 0 - CUDA_VISIBLE_DEVICES: [0]\n",
      "\n",
      "   | Name           | Type               | Params\n",
      "-------------------------------------------------------\n",
      "0  | conv1          | Conv2d             | 320   \n",
      "1  | conv2          | Conv2d             | 18.5 K\n",
      "2  | conv3          | Conv2d             | 18.5 K\n",
      "3  | conv4          | Conv2d             | 18.5 K\n",
      "4  | linear1        | Linear             | 8.0 M \n",
      "5  | linear2        | Linear             | 1.5 K \n",
      "6  | mp             | MaxPool2d          | 0     \n",
      "7  | relu           | ReLU               | 0     \n",
      "8  | val_accuracy   | MulticlassAccuracy | 0     \n",
      "9  | test_accuracy  | MulticlassAccuracy | 0     \n",
      "10 | train_accuracy | MulticlassAccuracy | 0     \n",
      "-------------------------------------------------------\n",
      "8.1 M     Trainable params\n",
      "0         Non-trainable params\n",
      "8.1 M     Total params\n",
      "32.229    Total estimated model params size (MB)\n"
     ]
    },
    {
     "data": {
      "text/plain": "Sanity Checking: |          | 0/? [00:00<?, ?it/s]",
      "application/vnd.jupyter.widget-view+json": {
       "version_major": 2,
       "version_minor": 0,
       "model_id": "e71b2a5445b74c21b9ba0cec438d92f1"
      }
     },
     "metadata": {},
     "output_type": "display_data"
    },
    {
     "data": {
      "text/plain": "Training: |          | 0/? [00:00<?, ?it/s]",
      "application/vnd.jupyter.widget-view+json": {
       "version_major": 2,
       "version_minor": 0,
       "model_id": "c8b5d557c2b2440594598fa78218088f"
      }
     },
     "metadata": {},
     "output_type": "display_data"
    },
    {
     "data": {
      "text/plain": "Validation: |          | 0/? [00:00<?, ?it/s]",
      "application/vnd.jupyter.widget-view+json": {
       "version_major": 2,
       "version_minor": 0,
       "model_id": "ac6dbce908444d26a7e9a8855eb8d790"
      }
     },
     "metadata": {},
     "output_type": "display_data"
    },
    {
     "name": "stderr",
     "output_type": "stream",
     "text": [
      "Metric val/val_loss improved. New best score: 1.691\n"
     ]
    },
    {
     "data": {
      "text/plain": "Validation: |          | 0/? [00:00<?, ?it/s]",
      "application/vnd.jupyter.widget-view+json": {
       "version_major": 2,
       "version_minor": 0,
       "model_id": "fcc45cd3837248b0a85bb21338d5e500"
      }
     },
     "metadata": {},
     "output_type": "display_data"
    },
    {
     "name": "stderr",
     "output_type": "stream",
     "text": [
      "Metric val/val_loss improved by 0.556 >= min_delta = 0.001. New best score: 1.134\n"
     ]
    },
    {
     "data": {
      "text/plain": "Validation: |          | 0/? [00:00<?, ?it/s]",
      "application/vnd.jupyter.widget-view+json": {
       "version_major": 2,
       "version_minor": 0,
       "model_id": "cc43ca15295241ea9b6cab16496e0ae4"
      }
     },
     "metadata": {},
     "output_type": "display_data"
    },
    {
     "name": "stderr",
     "output_type": "stream",
     "text": [
      "Metric val/val_loss improved by 0.199 >= min_delta = 0.001. New best score: 0.936\n"
     ]
    },
    {
     "data": {
      "text/plain": "Validation: |          | 0/? [00:00<?, ?it/s]",
      "application/vnd.jupyter.widget-view+json": {
       "version_major": 2,
       "version_minor": 0,
       "model_id": "35d967dd73d44b5881970a401c7dc0a4"
      }
     },
     "metadata": {},
     "output_type": "display_data"
    },
    {
     "name": "stderr",
     "output_type": "stream",
     "text": [
      "Metric val/val_loss improved by 0.108 >= min_delta = 0.001. New best score: 0.828\n"
     ]
    },
    {
     "data": {
      "text/plain": "Validation: |          | 0/? [00:00<?, ?it/s]",
      "application/vnd.jupyter.widget-view+json": {
       "version_major": 2,
       "version_minor": 0,
       "model_id": "1c52fc9c526e442a9903275fe7fe3139"
      }
     },
     "metadata": {},
     "output_type": "display_data"
    },
    {
     "name": "stderr",
     "output_type": "stream",
     "text": [
      "Metric val/val_loss improved by 0.073 >= min_delta = 0.001. New best score: 0.755\n"
     ]
    },
    {
     "data": {
      "text/plain": "Validation: |          | 0/? [00:00<?, ?it/s]",
      "application/vnd.jupyter.widget-view+json": {
       "version_major": 2,
       "version_minor": 0,
       "model_id": "2a38ea9f0f2143e682df94c96d65ddee"
      }
     },
     "metadata": {},
     "output_type": "display_data"
    },
    {
     "name": "stderr",
     "output_type": "stream",
     "text": [
      "Metric val/val_loss improved by 0.025 >= min_delta = 0.001. New best score: 0.730\n"
     ]
    },
    {
     "data": {
      "text/plain": "Validation: |          | 0/? [00:00<?, ?it/s]",
      "application/vnd.jupyter.widget-view+json": {
       "version_major": 2,
       "version_minor": 0,
       "model_id": "95c115d09ffe475da6a918d7f9a3c9aa"
      }
     },
     "metadata": {},
     "output_type": "display_data"
    },
    {
     "name": "stderr",
     "output_type": "stream",
     "text": [
      "Metric val/val_loss improved by 0.026 >= min_delta = 0.001. New best score: 0.704\n"
     ]
    },
    {
     "data": {
      "text/plain": "Validation: |          | 0/? [00:00<?, ?it/s]",
      "application/vnd.jupyter.widget-view+json": {
       "version_major": 2,
       "version_minor": 0,
       "model_id": "3838d1b4dd9d4ec08dabdff59bd253d7"
      }
     },
     "metadata": {},
     "output_type": "display_data"
    },
    {
     "name": "stderr",
     "output_type": "stream",
     "text": [
      "Metric val/val_loss improved by 0.017 >= min_delta = 0.001. New best score: 0.687\n"
     ]
    },
    {
     "data": {
      "text/plain": "Validation: |          | 0/? [00:00<?, ?it/s]",
      "application/vnd.jupyter.widget-view+json": {
       "version_major": 2,
       "version_minor": 0,
       "model_id": "c628bce0b7104ee9b76b2ad6d9e0d67d"
      }
     },
     "metadata": {},
     "output_type": "display_data"
    },
    {
     "data": {
      "text/plain": "Validation: |          | 0/? [00:00<?, ?it/s]",
      "application/vnd.jupyter.widget-view+json": {
       "version_major": 2,
       "version_minor": 0,
       "model_id": "90891a1c2399461093c8ce3b3c93a695"
      }
     },
     "metadata": {},
     "output_type": "display_data"
    },
    {
     "name": "stderr",
     "output_type": "stream",
     "text": [
      "Metric val/val_loss improved by 0.016 >= min_delta = 0.001. New best score: 0.671\n"
     ]
    },
    {
     "data": {
      "text/plain": "Validation: |          | 0/? [00:00<?, ?it/s]",
      "application/vnd.jupyter.widget-view+json": {
       "version_major": 2,
       "version_minor": 0,
       "model_id": "7266269a2936452aa2e23fb5e66feb4f"
      }
     },
     "metadata": {},
     "output_type": "display_data"
    },
    {
     "name": "stderr",
     "output_type": "stream",
     "text": [
      "Metric val/val_loss improved by 0.009 >= min_delta = 0.001. New best score: 0.662\n"
     ]
    },
    {
     "data": {
      "text/plain": "Validation: |          | 0/? [00:00<?, ?it/s]",
      "application/vnd.jupyter.widget-view+json": {
       "version_major": 2,
       "version_minor": 0,
       "model_id": "cc5d2cce566249bfba392d39f8650e03"
      }
     },
     "metadata": {},
     "output_type": "display_data"
    },
    {
     "name": "stderr",
     "output_type": "stream",
     "text": [
      "Metric val/val_loss improved by 0.032 >= min_delta = 0.001. New best score: 0.630\n"
     ]
    },
    {
     "data": {
      "text/plain": "Validation: |          | 0/? [00:00<?, ?it/s]",
      "application/vnd.jupyter.widget-view+json": {
       "version_major": 2,
       "version_minor": 0,
       "model_id": "a0c9268bb5ea49eb8c88d16b2b1b4f18"
      }
     },
     "metadata": {},
     "output_type": "display_data"
    },
    {
     "data": {
      "text/plain": "Validation: |          | 0/? [00:00<?, ?it/s]",
      "application/vnd.jupyter.widget-view+json": {
       "version_major": 2,
       "version_minor": 0,
       "model_id": "40f4d97328294f6da371d6bf953e3ae3"
      }
     },
     "metadata": {},
     "output_type": "display_data"
    },
    {
     "data": {
      "text/plain": "Validation: |          | 0/? [00:00<?, ?it/s]",
      "application/vnd.jupyter.widget-view+json": {
       "version_major": 2,
       "version_minor": 0,
       "model_id": "1bb3f39b643942168dc1939bdc6e49bc"
      }
     },
     "metadata": {},
     "output_type": "display_data"
    },
    {
     "name": "stderr",
     "output_type": "stream",
     "text": [
      "Monitored metric val/val_loss did not improve in the last 3 records. Best score: 0.630. Signaling Trainer to stop.\n",
      "LOCAL_RANK: 0 - CUDA_VISIBLE_DEVICES: [0]\n"
     ]
    },
    {
     "data": {
      "text/plain": "Testing: |          | 0/? [00:00<?, ?it/s]",
      "application/vnd.jupyter.widget-view+json": {
       "version_major": 2,
       "version_minor": 0,
       "model_id": "8ab29fd2ecd446aabc802a63b37dbd03"
      }
     },
     "metadata": {},
     "output_type": "display_data"
    },
    {
     "name": "stdout",
     "output_type": "stream",
     "text": [
      "Shutting down background jobs, please wait a moment...\n",
      "Done!\n",
      "Waiting for the remaining 966 operations to synchronize with Neptune. Do not kill this process.\n",
      "Still waiting for the remaining 966 operations (0.00% done). Please wait.\n",
      "Still waiting for the remaining 966 operations (0.00% done). Please wait.\n",
      "Still waiting for the remaining 966 operations (0.00% done). Please wait.\n",
      "Still waiting for the remaining 128 operations (86.75% done). Please wait.\n",
      "All 966 operations synced, thanks for waiting!\n",
      "Explore the metadata in the Neptune app:\n",
      "https://app.neptune.ai/nadavcherry/dp1/e/DP-264\n",
      "────────────────────────────────────────────────────────────────────────────────────────────────────────────────────────\r\n",
      "       Test metric             DataLoader 0\r\n",
      "────────────────────────────────────────────────────────────────────────────────────────────────────────────────────────\r\n",
      "        test_acc            0.8471423983573914\r\n",
      "        test_loss            0.684205949306488\r\n",
      "────────────────────────────────────────────────────────────────────────────────────────────────────────────────────────\n"
     ]
    }
   ],
   "source": [
    "max_acc = 0\n",
    "fold_num = 5\n",
    "ensemble_models = []\n",
    "test_accuracy = []\n",
    "test_loss = []\n",
    "val_accuracy = []\n",
    "val_loss = []\n",
    "kf = StratifiedKFold(n_splits=fold_num, shuffle=True)\n",
    "for i, (train_index, val_index) in enumerate(kf.split(train_dataset,train_dataset.targets)):\n",
    "\n",
    "\n",
    "\n",
    "    train_subset = torch.utils.data.Subset(train_dataset, train_index)\n",
    "    val_subset = torch.utils.data.Subset(train_dataset, val_index)\n",
    "\n",
    "    train_loader = torch.utils.data.DataLoader(train_subset, batch_size=batch_size,shuffle=True)\n",
    "    val_loader = torch.utils.data.DataLoader(val_subset, batch_size=batch_size, shuffle=True)\n",
    "\n",
    "    kf_model = CNN_ASL(train_loader, val_loader, num_classes=30)\n",
    "    # Define EarlyStopping callback\n",
    "    early_stop_callback = EarlyStopping(\n",
    "        monitor='val/val_loss',  # Metric to monitor for improvement\n",
    "        min_delta=0.001,      # Minimum change in the monitored metric to qualify as improvement\n",
    "        patience=3,           # Number of epochs with no improvement after which training will be stopped\n",
    "        verbose=True,         # Print message when training is stopped due to early stopping\n",
    "        mode='min'            # 'min' or 'max': whether the monitored metric should be minimized or maximized\n",
    "    )\n",
    "\n",
    "    # Initialize Trainer with EarlyStopping callback\n",
    "    trainer = pl.Trainer(\n",
    "        accelerator=\"auto\",\n",
    "        max_epochs=50,\n",
    "        callbacks=[early_stop_callback]  # Pass the EarlyStopping callback to the Trainer\n",
    "    )\n",
    "    trainer.fit(kf_model)\n",
    "    trainer.test(kf_model)\n",
    "\n",
    "    ensemble_models.append(kf_model)\n",
    "    # Calculate test accuracy and test loss\n",
    "\n",
    "    test_accuracy.append(kf_model.test_accuracy1/kf_model.count_batch_test)\n",
    "    test_loss.append(kf_model.test_loss1/kf_model.count_batch_test)\n",
    "    val_accuracy.append(kf_model.val_accuracy_arr)\n",
    "    val_loss.append(kf_model.val_loss_arr)\n",
    "\n"
   ],
   "metadata": {
    "collapsed": false,
    "ExecuteTime": {
     "end_time": "2024-02-10T19:58:54.118397800Z",
     "start_time": "2024-02-10T17:02:10.228227600Z"
    }
   },
   "id": "b3a927dc57ac55fe",
   "execution_count": 9
  },
  {
   "cell_type": "code",
   "outputs": [
    {
     "data": {
      "text/plain": "CNN_ASL(\n  (conv1): Conv2d(3, 32, kernel_size=(3, 3), stride=(1, 1), padding=same)\n  (conv2): Conv2d(32, 64, kernel_size=(3, 3), stride=(1, 1), padding=same)\n  (conv3): Conv2d(64, 32, kernel_size=(3, 3), stride=(1, 1), padding=same)\n  (conv4): Conv2d(32, 64, kernel_size=(3, 3), stride=(1, 1), padding=same)\n  (linear1): Linear(in_features=160000, out_features=50, bias=True)\n  (linear2): Linear(in_features=50, out_features=29, bias=True)\n  (mp): MaxPool2d(kernel_size=2, stride=2, padding=0, dilation=1, ceil_mode=False)\n  (relu): ReLU()\n  (val_accuracy): MulticlassAccuracy()\n  (test_accuracy): MulticlassAccuracy()\n  (train_accuracy): MulticlassAccuracy()\n)"
     },
     "execution_count": 14,
     "metadata": {},
     "output_type": "execute_result"
    }
   ],
   "source": [
    "kf_model"
   ],
   "metadata": {
    "collapsed": false,
    "ExecuteTime": {
     "end_time": "2024-02-10T12:21:58.547210200Z",
     "start_time": "2024-02-10T12:21:58.540649200Z"
    }
   },
   "id": "d5fcadb1ad976b8a",
   "execution_count": 14
  },
  {
   "cell_type": "code",
   "outputs": [],
   "source": [
    "# ensemble_models.append(kf_model)\n",
    "# Calculate test accuracy and test loss\n",
    "test_accuracy = []\n",
    "test_loss = []\n",
    "val_accuracy = []\n",
    "val_loss = []\n",
    "for i in range(5):\n",
    "    kf_model = ensemble_models[i]\n",
    "    test_accuracy.append(kf_model.test_accuracy1/kf_model.count_batch_test)\n",
    "    test_loss.append(kf_model.test_loss1/kf_model.count_batch_test)"
   ],
   "metadata": {
    "collapsed": false,
    "ExecuteTime": {
     "end_time": "2024-02-10T12:23:18.323381900Z",
     "start_time": "2024-02-10T12:23:18.304912300Z"
    }
   },
   "id": "c78815ddd9cb7734",
   "execution_count": 18
  },
  {
   "cell_type": "code",
   "outputs": [
    {
     "name": "stdout",
     "output_type": "stream",
     "text": [
      "8\n",
      "13\n",
      "13\n",
      "16\n",
      "16\n"
     ]
    }
   ],
   "source": [
    "print(len(val_accuracy[0]))\n",
    "print(len(val_accuracy[1]))\n",
    "print(len(val_accuracy[2]))\n",
    "print(len(val_accuracy[3]))\n",
    "print(len(val_accuracy[4]))"
   ],
   "metadata": {
    "collapsed": false,
    "ExecuteTime": {
     "end_time": "2024-02-10T19:58:54.127085400Z",
     "start_time": "2024-02-10T19:58:54.124378100Z"
    }
   },
   "id": "95ef082f615c383",
   "execution_count": 10
  },
  {
   "cell_type": "code",
   "outputs": [
    {
     "data": {
      "text/plain": "<Figure size 1000x800 with 2 Axes>",
      "image/png": "[encoded data removed]"
     },
     "metadata": {},
     "output_type": "display_data"
    }
   ],
   "source": [
    "# Assuming you have lists for validation and test losses and accuracies\n",
    "epochs = range(0,8)\n",
    "\n",
    "# Create two subplots (one for loss and one for accuracy)\n",
    "fig, (ax1, ax2) = plt.subplots(2, 1, sharex=True, figsize=(10, 8))\n",
    "\n",
    "column_averages_loss = [sum(col) / len(col) for col in zip(*val_loss)]\n",
    "column_averages_acc = [sum(col) / len(col) for col in zip(*val_accuracy)]\n",
    "\n",
    "# Plot the training and validation losses\n",
    "ax1.plot(epochs, column_averages_loss, label='Validation Loss', marker='o', linestyle='-')\n",
    "ax1.set_ylabel('Loss')\n",
    "ax1.set_title('Average Validation Loss vs. Epoch')\n",
    "ax1.legend()\n",
    "\n",
    "# Plot the training and validation accuracies\n",
    "ax2.plot(epochs, column_averages_acc, label='Validation Accuracy', marker='s', linestyle='--', color='orange')\n",
    "ax2.set_xlabel('Epoch')\n",
    "ax2.set_ylabel('Accuracy')\n",
    "ax2.set_title('Average Validation Accuracy vs. Epoch')\n",
    "ax2.legend()\n",
    "\n",
    "plt.show()"
   ],
   "metadata": {
    "collapsed": false,
    "ExecuteTime": {
     "end_time": "2024-02-10T20:00:11.738412200Z",
     "start_time": "2024-02-10T20:00:11.567923900Z"
    }
   },
   "id": "6cd68a79317257af",
   "execution_count": 12
  },
  {
   "cell_type": "code",
   "outputs": [
    {
     "name": "stdout",
     "output_type": "stream",
     "text": [
      "+---------+-----------------+-------------+\n",
      "| Fold    |   Test Accuracy |   Test Loss |\n",
      "+=========+=================+=============+\n",
      "| 1       |        0.914047 |    0.442121 |\n",
      "+---------+-----------------+-------------+\n",
      "| 2       |        0.863278 |    0.631059 |\n",
      "+---------+-----------------+-------------+\n",
      "| 3       |        0.891075 |    0.596603 |\n",
      "+---------+-----------------+-------------+\n",
      "| 4       |        0.862338 |    0.58937  |\n",
      "+---------+-----------------+-------------+\n",
      "| 5       |        0.847572 |    0.6823   |\n",
      "+---------+-----------------+-------------+\n",
      "| Average |        0.875662 |    0.58829  |\n",
      "+---------+-----------------+-------------+\n"
     ]
    }
   ],
   "source": [
    "from tabulate import tabulate\n",
    "\n",
    "# Assuming you have test_accuracy and test_loss lists containing values for each fold\n",
    "\n",
    "fold_num = len(test_accuracy)\n",
    "\n",
    "# Create a list of lists to store data for the table\n",
    "table_data = [[\"Fold\", \"Test Accuracy\", \"Test Loss\"]]\n",
    "for i in range(fold_num):\n",
    "    table_data.append([i+1, test_accuracy[i], test_loss[i]])\n",
    "\n",
    "# Calculate average test accuracy and test loss\n",
    "avg_test_accuracy = sum(test_accuracy) / fold_num\n",
    "avg_test_loss = sum(test_loss) / fold_num\n",
    "\n",
    "# Add rows for average values\n",
    "table_data.append([\"Average\", avg_test_accuracy, avg_test_loss])\n",
    "\n",
    "# Print the table\n",
    "print(tabulate(table_data, headers=\"firstrow\", tablefmt=\"grid\"))\n"
   ],
   "metadata": {
    "collapsed": false,
    "ExecuteTime": {
     "end_time": "2024-02-10T20:00:15.810207600Z",
     "start_time": "2024-02-10T20:00:15.799348200Z"
    }
   },
   "id": "16f570461ee21114",
   "execution_count": 13
  },
  {
   "cell_type": "code",
   "outputs": [],
   "source": [
    "import random\n",
    "from torchvision import transforms\n",
    "from PIL import Image\n",
    "from torchvision import transforms, datasets, utils as tv_utils\n",
    "\n",
    "class RandomTurnOffPixels(object):\n",
    "    def __init__(self, probability=0.1):\n",
    "        self.probability = probability\n",
    "\n",
    "    def __call__(self, img):\n",
    "        if random.random() < self.probability:\n",
    "            img = img.convert(\"RGB\")  # Convert to RGB if not already\n",
    "            img_array = img.load()\n",
    "            width, height = img.size\n",
    "            num_pixels_to_turn_off = int(self.probability * width * height)\n",
    "            for _ in range(num_pixels_to_turn_off):\n",
    "                x = random.randint(0, width - 1)\n",
    "                y = random.randint(0, height - 1)\n",
    "                img_array[x, y] = (0, 0, 0)  # Set pixel to black\n",
    "            return img\n",
    "        return img"
   ],
   "metadata": {
    "collapsed": false,
    "ExecuteTime": {
     "end_time": "2024-02-10T13:50:20.065030700Z",
     "start_time": "2024-02-10T13:50:20.057913200Z"
    }
   },
   "id": "54780fb3d4dff99f",
   "execution_count": 29
  },
  {
   "cell_type": "code",
   "outputs": [],
   "source": [
    "accuracy1 = kf_model.test_accuracy1/kf_model.count_batch_test"
   ],
   "metadata": {
    "collapsed": false,
    "ExecuteTime": {
     "end_time": "2024-02-10T13:50:20.519690500Z",
     "start_time": "2024-02-10T13:50:20.513138200Z"
    }
   },
   "id": "86f6ec632a8dc74f",
   "execution_count": 30
  },
  {
   "cell_type": "code",
   "outputs": [
    {
     "name": "stdout",
     "output_type": "stream",
     "text": [
      "Accuracy without augmentations: 0.9079733455882353\n"
     ]
    }
   ],
   "source": [
    "print('Accuracy without augmentations:', accuracy1)"
   ],
   "metadata": {
    "collapsed": false,
    "ExecuteTime": {
     "end_time": "2024-02-10T13:50:21.148197800Z",
     "start_time": "2024-02-10T13:50:21.142546800Z"
    }
   },
   "id": "cf3421b074f1caf5",
   "execution_count": 31
  },
  {
   "cell_type": "code",
   "outputs": [
    {
     "data": {
      "text/plain": "CNN_ASL(\n  (conv1): Conv2d(3, 32, kernel_size=(3, 3), stride=(1, 1), padding=same)\n  (conv2): Conv2d(32, 64, kernel_size=(3, 3), stride=(1, 1), padding=same)\n  (conv3): Conv2d(64, 32, kernel_size=(3, 3), stride=(1, 1), padding=same)\n  (conv4): Conv2d(32, 64, kernel_size=(3, 3), stride=(1, 1), padding=same)\n  (linear1): Linear(in_features=160000, out_features=50, bias=True)\n  (linear2): Linear(in_features=50, out_features=29, bias=True)\n  (mp): MaxPool2d(kernel_size=2, stride=2, padding=0, dilation=1, ceil_mode=False)\n  (relu): ReLU()\n  (val_accuracy): MulticlassAccuracy()\n  (test_accuracy): MulticlassAccuracy()\n  (train_accuracy): MulticlassAccuracy()\n)"
     },
     "execution_count": 32,
     "metadata": {},
     "output_type": "execute_result"
    }
   ],
   "source": [
    "kf_model"
   ],
   "metadata": {
    "collapsed": false,
    "ExecuteTime": {
     "end_time": "2024-02-10T13:50:23.305068600Z",
     "start_time": "2024-02-10T13:50:23.297091300Z"
    }
   },
   "id": "46da206ee1e35163",
   "execution_count": 32
  },
  {
   "cell_type": "code",
   "outputs": [],
   "source": [
    "correct_predictions = 0\n",
    "total_predictions = 0\n",
    "to_pseudo_rgb = Lambda(lambda x: x.repeat(3, 1, 1))\n",
    "test_dataloader = DataLoader(datasets.ImageFolder(test_data_path, transform=transform), batch_size=64)\n",
    "augmentations = [\n",
    "    transforms.Compose([  \n",
    "        transforms.ToPILImage(),\n",
    "        RandomTurnOffPixels(probability=0.2),\n",
    "        transforms.Grayscale(num_output_channels=3),  # Convert to grayscale with 3 channels\n",
    "        transforms.ToTensor(),\n",
    "    ]),\n",
    "\n",
    "    transforms.Compose([\n",
    "        transforms.ToPILImage(),\n",
    "        transforms.RandomRotation(20),\n",
    "        transforms.ToTensor(),\n",
    "    ])            \n",
    "\n",
    "]\n",
    "x = 0\n",
    "# Iterate over the test dataset\n",
    "for images, labels in test_dataloader:        \n",
    "    # Initialize final predictions\n",
    "    final_predictions = torch.zeros(len(labels), 29)\n",
    "\n",
    "    # Iterate for the specified number of prediction runs\n",
    "    for j in range(2):\n",
    "        # Perform predictions\n",
    "        \n",
    "        aug_index = j % len(augmentations)\n",
    "        with torch.no_grad():\n",
    "            aug_images = torch.stack([augmentations[aug_index](image) for image in images])\n",
    "            preds = kf_model(aug_images)\n",
    "\n",
    "        # Accumulate predictions\n",
    "        final_predictions += preds\n",
    "        if x == 0:\n",
    "            x += 1\n",
    "    # Average predictions\n",
    "    final_predictions /= 2\n",
    "\n",
    "    # Calculate accuracy\n",
    "    predicted_labels = torch.argmax(final_predictions, dim=1)\n",
    "    \n",
    "    correct_predictions += (predicted_labels == labels).sum().item()\n",
    "    total_predictions += len(labels)\n",
    "    \n",
    "    # Display the augmented images\n",
    "\n",
    "\n",
    "# Calculate accuracy\n",
    "accuracy = correct_predictions / total_predictions\n",
    "print(\"Accuracy:\",accuracy)"
   ],
   "metadata": {
    "collapsed": false,
    "ExecuteTime": {
     "start_time": "2024-02-10T13:58:09.027131900Z"
    }
   },
   "id": "e6bdf76c9c5e53a6",
   "execution_count": null
  },
  {
   "cell_type": "code",
   "outputs": [],
   "source": [],
   "metadata": {
    "collapsed": false
   },
   "id": "2d8858bf745578ae"
  },
  {
   "cell_type": "code",
   "outputs": [],
   "source": [],
   "metadata": {
    "collapsed": false
   },
   "id": "12f6dc2936eabf98"
  },
  {
   "cell_type": "code",
   "outputs": [],
   "source": [
    "# for model in ensemble_models:\n",
    "#     model.eval()\n",
    "#     with torch.no_grad():\n",
    "#         predictions = []\n",
    "#         for inputs, labels in test_loader:\n",
    "#             outputs = model(inputs)\n",
    "#             predictions.extend(torch.argmax(outputs, dim=1).cpu().tolist())\n",
    "#     individual_predictions.append(predictions)\n",
    "# individual_predictions = [[0,1,0,3,2,1],[3,3,2,0,1,5],[3,1,5,2,3,4],[1,2,3,4,5,4]]\n",
    "# \n",
    "# common_predictions = set(individual_predictions[0]).intersection(*individual_predictions[1:])\n",
    "# \n",
    "# # Convert common predictions back to a list if needed\n",
    "# common_predictions = list(common_predictions)\n",
    "# \n",
    "# print(\"Common predictions:\", common_predictions)"
   ],
   "metadata": {
    "collapsed": false
   },
   "id": "d96f8aaa9f0f06ec",
   "execution_count": null
  },
  {
   "cell_type": "code",
   "outputs": [],
   "source": [
    "# import os\n",
    "# import shutil\n",
    "# \n",
    "# # Define the directory containing the images\n",
    "# image_dir = 'C:\\\\Users\\\\nadav\\\\Downloads\\\\Final_Data_Full\\\\Final_Data_Full\\\\train'\n",
    "# \n",
    "# # Get a list of all image files in the directory\n",
    "# image_files = [f for f in os.listdir(image_dir) if os.path.isfile(os.path.join(image_dir, f))]\n",
    "# \n",
    "# # Iterate over each image file\n",
    "# for image_file in image_files:\n",
    "#     # Extract the prefix of the image file name up to the '_' character\n",
    "#     prefix = image_file.split('_')[0]\n",
    "#     \n",
    "#     # Create directory if it doesn't exist\n",
    "#     target_dir = os.path.join(image_dir, prefix)\n",
    "#     if not os.path.exists(target_dir):\n",
    "#         os.makedirs(target_dir)\n",
    "#     \n",
    "#     # Move the image file to the corresponding directory\n",
    "#     src_path = os.path.join(image_dir, image_file)\n",
    "#     dst_path = os.path.join(target_dir, image_file)\n",
    "#     shutil.move(src_path, dst_path)\n",
    "# \n",
    "# print(\"Images moved to appropriate folders.\")"
   ],
   "metadata": {
    "collapsed": false
   },
   "id": "cc4fdd942e2febb",
   "execution_count": null
  },
  {
   "cell_type": "code",
   "outputs": [],
   "source": [
    "# model = CNN_ASL.load_from_checkpoint(\"lightning_logs/version_181/checkpoints/epoch=19-step=19580.ckpt\",train_data=train_data, val_data=train_val)\n",
    "# # model = CNN_ASL.load_from_checkpoint(\"lightning_logs/version_283/checkpoints/epoch=4-step=95.ckpt\", train_data=train_data, val_data=train_val)\n",
    "# # disable randomness, dropout, etc...\n",
    "# model.eval()"
   ],
   "metadata": {
    "collapsed": false
   },
   "id": "5521e914fc4510d2",
   "execution_count": null
  }
 ],
 "metadata": {
  "kernelspec": {
   "display_name": "Python 3",
   "language": "python",
   "name": "python3"
  },
  "language_info": {
   "codemirror_mode": {
    "name": "ipython",
    "version": 2
   },
   "file_extension": ".py",
   "mimetype": "text/x-python",
   "name": "python",
   "nbconvert_exporter": "python",
   "pygments_lexer": "ipython2",
   "version": "2.7.6"
  }
 },
 "nbformat": 4,
 "nbformat_minor": 5
}
